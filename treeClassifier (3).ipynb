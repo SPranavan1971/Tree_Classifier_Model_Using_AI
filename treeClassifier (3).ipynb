{
 "cells": [
  {
   "cell_type": "markdown",
   "id": "632460ab-3fc3-4526-b2ff-1fd97004cb3c",
   "metadata": {},
   "source": [
    "This is the initial stage of treeClassifier."
   ]
  },
  {
   "cell_type": "code",
   "execution_count": 1,
   "id": "5dadf73c-3cf5-4c5e-8149-c06616d68a16",
   "metadata": {},
   "outputs": [],
   "source": [
    "import pandas as pd\n",
    "import numpy as np\n",
    "from sklearn.model_selection import train_test_split\n",
    "from keras.models import Sequential\n",
    "from keras.layers import Dense\n",
    "from keras.utils import to_categorical\n",
    "from sklearn.preprocessing import OneHotEncoder\n",
    "from sklearn.preprocessing import LabelEncoder"
   ]
  },
  {
   "cell_type": "code",
   "execution_count": 2,
   "id": "7196e132-c768-4c94-b284-2f25e82ffff1",
   "metadata": {},
   "outputs": [],
   "source": [
    "# Load data from CSV file\n",
    "file_path = r'C:\\Users\\spthe\\OneDrive\\Desktop\\TreeDataSet.csv'  # Update with the correct file path\n",
    "data = pd.read_csv(file_path)"
   ]
  },
  {
   "cell_type": "code",
   "execution_count": 3,
   "id": "2f746dbc-507a-4220-b40b-e7b36e9c21ad",
   "metadata": {},
   "outputs": [],
   "source": [
    "# Adjust column names\n",
    "data.columns = ['TreeSpecies', 'Ratio', 'Angle']"
   ]
  },
  {
   "cell_type": "code",
   "execution_count": 4,
   "id": "a62acdf1-ab9d-4b50-bf9a-451df8e626ea",
   "metadata": {},
   "outputs": [
    {
     "name": "stdout",
     "output_type": "stream",
     "text": [
      "Data types in features (X):\n",
      "Ratio    float64\n",
      "Angle      int64\n",
      "dtype: object\n",
      "Data type in labels (y):\n",
      "object\n"
     ]
    }
   ],
   "source": [
    "# Check for data types in features and labels (for debugging)\n",
    "print(\"Data types in features (X):\")\n",
    "print(data[[ 'Ratio', 'Angle']].dtypes)\n",
    "print(\"Data type in labels (y):\")\n",
    "print(data['TreeSpecies'].dtype)"
   ]
  },
  {
   "cell_type": "code",
   "execution_count": 5,
   "id": "b7d25682-e89c-4e5b-9481-bc296d7a9a7c",
   "metadata": {},
   "outputs": [],
   "source": [
    "# Prepare features and labels\n",
    "# Select features excluding column names\n",
    "X = data[['Ratio', 'Angle']]"
   ]
  },
  {
   "cell_type": "code",
   "execution_count": 6,
   "id": "cf50cc54-5d22-4be1-adfa-e69b64c9c861",
   "metadata": {},
   "outputs": [],
   "source": [
    "# Attempt to convert features to numerics (assuming numerical data)\n",
    "X = X.apply(pd.to_numeric, errors='coerce').values"
   ]
  },
  {
   "cell_type": "code",
   "execution_count": 7,
   "id": "27148341-eee3-4657-b55b-3ed5a16064cb",
   "metadata": {},
   "outputs": [],
   "source": [
    "# Encode labels into integers (assuming categorical labels)\n",
    "label_encoder = LabelEncoder()\n",
    "y = label_encoder.fit_transform(data['TreeSpecies'].values)"
   ]
  },
  {
   "cell_type": "code",
   "execution_count": 8,
   "id": "7fea174d-8c0b-43c3-9529-19593ea312e7",
   "metadata": {},
   "outputs": [
    {
     "name": "stdout",
     "output_type": "stream",
     "text": [
      "Number of unique classes after label encoding: 3\n"
     ]
    }
   ],
   "source": [
    "# Check the number of unique classes after label encoding (for debugging)\n",
    "print(\"Number of unique classes after label encoding:\", len(label_encoder.classes_))"
   ]
  },
  {
   "cell_type": "code",
   "execution_count": 9,
   "id": "c4b40da3-da91-49f2-9f3d-f7e3c20d4637",
   "metadata": {},
   "outputs": [],
   "source": [
    "# Convert labels to categorical (one-hot encoding)\n",
    "encoder = OneHotEncoder(sparse=False)\n",
    "y = encoder.fit_transform(y.reshape(-1, 1))  # Reshape for compatibility"
   ]
  },
  {
   "cell_type": "code",
   "execution_count": 10,
   "id": "e7cbf8b6-b029-4685-938c-4013d42a5428",
   "metadata": {},
   "outputs": [
    {
     "name": "stdout",
     "output_type": "stream",
     "text": [
      "Shape of encoded labels (y): (90, 3)\n"
     ]
    }
   ],
   "source": [
    "# Check the shape of the encoded labels (for debugging)\n",
    "print(\"Shape of encoded labels (y):\", y.shape)"
   ]
  },
  {
   "cell_type": "code",
   "execution_count": 11,
   "id": "409a9cbb-0f73-47d1-b7f3-62cbd8dd4845",
   "metadata": {},
   "outputs": [],
   "source": [
    "# Split data into training and testing sets\n",
    "X_train, X_test, y_train, y_test = train_test_split(X, y, test_size=0.2, random_state=3)"
   ]
  },
  {
   "cell_type": "code",
   "execution_count": 12,
   "id": "d448147e-1bc7-4a48-923a-54c5b39f89b7",
   "metadata": {},
   "outputs": [
    {
     "name": "stdout",
     "output_type": "stream",
     "text": [
      "Shape of training features (X_train): (72, 2)\n"
     ]
    }
   ],
   "source": [
    "# Print the shape of training features (for debugging)\n",
    "print(\"Shape of training features (X_train):\", X_train.shape)"
   ]
  },
  {
   "cell_type": "code",
   "execution_count": 13,
   "id": "ed3a01d2-1e57-45b9-8535-df2acbeafd5d",
   "metadata": {},
   "outputs": [],
   "source": [
    "from keras.models import Model\n",
    "from keras.layers import Input, Dense\n",
    "\n",
    "# Define the input layer with shape (2,)\n",
    "input_layer = Input(shape=(2,))\n",
    "\n",
    "# Define the layers of the model\n",
    "hidden_layer1 = Dense(units=30, activation='relu')(input_layer) # First hidden layer with 30 units and ReLU activation\n",
    "hidden_layer2 = Dense(units=30, activation='relu')(hidden_layer1) # Second hidden layer with 30 units and ReLU activation\n",
    "output_layer = Dense(units=3, activation='softmax')(hidden_layer2) # Output layer with 5 units and softmax activation\n",
    "\n",
    "# Define the model\n",
    "custom_model = Model(inputs=input_layer, outputs=output_layer) # Creating a model with specified input and output layers"
   ]
  },
  {
   "cell_type": "code",
   "execution_count": 14,
   "id": "c9320cf5-572e-405c-bd05-10e7f500723e",
   "metadata": {},
   "outputs": [],
   "source": [
    "# Compile the model\n",
    "custom_model.compile(optimizer='adam',\n",
    "                     loss='categorical_crossentropy',\n",
    "                     metrics=['accuracy'])"
   ]
  },
  {
   "cell_type": "code",
   "execution_count": 15,
   "id": "e7c065f8-0661-4956-9e91-d25ca6d2d0be",
   "metadata": {},
   "outputs": [
    {
     "name": "stdout",
     "output_type": "stream",
     "text": [
      "Epoch 1/5\n",
      "3/3 [==============================] - 1s 9ms/step - loss: 12.5837 - accuracy: 0.3611\n",
      "Epoch 2/5\n",
      "3/3 [==============================] - 0s 5ms/step - loss: 9.4147 - accuracy: 0.3611\n",
      "Epoch 3/5\n",
      "3/3 [==============================] - 0s 5ms/step - loss: 6.4060 - accuracy: 0.3611\n",
      "Epoch 4/5\n",
      "3/3 [==============================] - 0s 4ms/step - loss: 4.6897 - accuracy: 0.3333\n",
      "Epoch 5/5\n",
      "3/3 [==============================] - 0s 4ms/step - loss: 4.0990 - accuracy: 0.3333\n"
     ]
    },
    {
     "data": {
      "text/plain": [
       "<keras.callbacks.History at 0x222d02185e0>"
      ]
     },
     "execution_count": 15,
     "metadata": {},
     "output_type": "execute_result"
    }
   ],
   "source": [
    "# Train the model with the reshaped input data\n",
    "custom_model.fit(X_train, y_train, epochs=5, batch_size=30)"
   ]
  },
  {
   "cell_type": "code",
   "execution_count": 16,
   "id": "0356928b-0fa0-447e-bece-adc5626c3ed6",
   "metadata": {},
   "outputs": [
    {
     "name": "stdout",
     "output_type": "stream",
     "text": [
      "1/1 [==============================] - 0s 114ms/step\n"
     ]
    }
   ],
   "source": [
    "# Make predictions on the testing set\n",
    "y_pred = custom_model.predict(X_test)\n",
    "\n",
    "# Convert one-hot encoded predictions to class labels (optional)\n",
    "y_pred_classes = np.argmax(y_pred, axis=1)"
   ]
  },
  {
   "cell_type": "code",
   "execution_count": 17,
   "id": "24f9055f-b4d1-4ec7-bbd1-783b549df995",
   "metadata": {},
   "outputs": [
    {
     "name": "stdout",
     "output_type": "stream",
     "text": [
      "1/1 [==============================] - 0s 307ms/step - loss: 4.6506 - accuracy: 0.3333\n",
      "Test accuracy: 0.3333333432674408\n"
     ]
    }
   ],
   "source": [
    "# Evaluate the model\n",
    "test_loss, test_acc = custom_model.evaluate(X_test, y_test)\n",
    "print('Test accuracy:', test_acc)"
   ]
  },
  {
   "cell_type": "markdown",
   "id": "3ec78087-44e4-483c-964c-5b5da8f995d8",
   "metadata": {},
   "source": [
    "\n",
    "Now we get \"0.3\" as accuracy, so we change the optimizer as \"rmsprop\" and observe the change.\n",
    "\n",
    "we start the procedure from beginning."
   ]
  },
  {
   "cell_type": "code",
   "execution_count": 18,
   "id": "8ca27f92-6d9a-4908-b971-ca449aced287",
   "metadata": {},
   "outputs": [],
   "source": [
    "import pandas as pd\n",
    "import numpy as np\n",
    "from sklearn.model_selection import train_test_split\n",
    "from keras.models import Sequential\n",
    "from keras.layers import Dense\n",
    "from keras.utils import to_categorical\n",
    "from sklearn.preprocessing import OneHotEncoder\n",
    "from sklearn.preprocessing import LabelEncoder"
   ]
  },
  {
   "cell_type": "code",
   "execution_count": 19,
   "id": "50d302b1-4f88-4406-ad0c-0e305db6ae13",
   "metadata": {},
   "outputs": [],
   "source": [
    "# Load data from CSV file\n",
    "file_path = r'C:\\Users\\spthe\\OneDrive\\Desktop\\TreeDataSet.csv'  # Update with the correct file path\n",
    "data = pd.read_csv(file_path)"
   ]
  },
  {
   "cell_type": "code",
   "execution_count": 20,
   "id": "53456dc9-30a3-4b8a-ba34-d6c77aea443a",
   "metadata": {},
   "outputs": [],
   "source": [
    "# Adjust column names\n",
    "data.columns = ['TreeSpecies', 'Ratio', 'Angle']"
   ]
  },
  {
   "cell_type": "code",
   "execution_count": 21,
   "id": "62221b15-95b0-4809-8cf1-ebba8b863a37",
   "metadata": {},
   "outputs": [
    {
     "name": "stdout",
     "output_type": "stream",
     "text": [
      "Data types in features (X):\n",
      "Ratio    float64\n",
      "Angle      int64\n",
      "dtype: object\n",
      "Data type in labels (y):\n",
      "object\n"
     ]
    }
   ],
   "source": [
    "# Check for data types in features and labels (for debugging)\n",
    "print(\"Data types in features (X):\")\n",
    "print(data[[ 'Ratio', 'Angle']].dtypes)\n",
    "print(\"Data type in labels (y):\")\n",
    "print(data['TreeSpecies'].dtype)"
   ]
  },
  {
   "cell_type": "code",
   "execution_count": 22,
   "id": "0c51b972-5852-408c-b99c-8c4badb36173",
   "metadata": {},
   "outputs": [],
   "source": [
    "# Prepare features and labels\n",
    "# Select features excluding column names\n",
    "X = data[['Ratio', 'Angle']]"
   ]
  },
  {
   "cell_type": "code",
   "execution_count": 23,
   "id": "16514a1e-889b-4c10-90a7-7218a63cced7",
   "metadata": {},
   "outputs": [],
   "source": [
    "# Attempt to convert features to numerics (assuming numerical data)\n",
    "X = X.apply(pd.to_numeric, errors='coerce').values"
   ]
  },
  {
   "cell_type": "code",
   "execution_count": 24,
   "id": "3c854295-53e6-449e-b9d0-4e47540fdad8",
   "metadata": {},
   "outputs": [],
   "source": [
    "# Encode labels into integers (assuming categorical labels)\n",
    "label_encoder = LabelEncoder()\n",
    "y = label_encoder.fit_transform(data['TreeSpecies'].values)"
   ]
  },
  {
   "cell_type": "code",
   "execution_count": 25,
   "id": "bdc10aa9-2720-4550-8b1c-ec35f381eb07",
   "metadata": {},
   "outputs": [
    {
     "name": "stdout",
     "output_type": "stream",
     "text": [
      "Number of unique classes after label encoding: 3\n"
     ]
    }
   ],
   "source": [
    "# Check the number of unique classes after label encoding (for debugging)\n",
    "print(\"Number of unique classes after label encoding:\", len(label_encoder.classes_))"
   ]
  },
  {
   "cell_type": "code",
   "execution_count": 26,
   "id": "5b6005d4-9494-442f-ba49-c75e6df772a3",
   "metadata": {},
   "outputs": [],
   "source": [
    "# Convert labels to categorical (one-hot encoding)\n",
    "encoder = OneHotEncoder(sparse=False)\n",
    "y = encoder.fit_transform(y.reshape(-1, 1))  # Reshape for compatibility"
   ]
  },
  {
   "cell_type": "code",
   "execution_count": 27,
   "id": "6f0a2799-b3d7-4ed1-a383-a91b948354d0",
   "metadata": {},
   "outputs": [
    {
     "name": "stdout",
     "output_type": "stream",
     "text": [
      "Shape of encoded labels (y): (90, 3)\n"
     ]
    }
   ],
   "source": [
    "# Check the shape of the encoded labels (for debugging)\n",
    "print(\"Shape of encoded labels (y):\", y.shape)"
   ]
  },
  {
   "cell_type": "code",
   "execution_count": 28,
   "id": "6b528639-7f15-420b-a564-91cb73038a86",
   "metadata": {},
   "outputs": [],
   "source": [
    "# Split data into training and testing sets\n",
    "X_train, X_test, y_train, y_test = train_test_split(X, y, test_size=0.2, random_state=3)"
   ]
  },
  {
   "cell_type": "code",
   "execution_count": 29,
   "id": "e9b49ee1-ca32-4a70-b97a-5d30d5309e20",
   "metadata": {},
   "outputs": [
    {
     "name": "stdout",
     "output_type": "stream",
     "text": [
      "Shape of training features (X_train): (72, 2)\n"
     ]
    }
   ],
   "source": [
    "# Print the shape of training features (for debugging)\n",
    "print(\"Shape of training features (X_train):\", X_train.shape)"
   ]
  },
  {
   "cell_type": "code",
   "execution_count": 30,
   "id": "8d0e8cea-cba7-412e-b33c-7d28089b1f74",
   "metadata": {},
   "outputs": [],
   "source": [
    "from keras.models import Model\n",
    "from keras.layers import Input, Dense\n",
    "\n",
    "# Define the input layer with shape (2,)\n",
    "input_layer = Input(shape=(2,))\n",
    "\n",
    "# Define the layers of the model\n",
    "hidden_layer1 = Dense(units=30, activation='relu')(input_layer) # First hidden layer with 30 units and ReLU activation\n",
    "hidden_layer2 = Dense(units=30, activation='relu')(hidden_layer1) # Second hidden layer with 30 units and ReLU activation\n",
    "output_layer = Dense(units=3, activation='softmax')(hidden_layer2) # Output layer with 5 units and softmax activation\n",
    "\n",
    "# Define the model\n",
    "custom_model = Model(inputs=input_layer, outputs=output_layer) # Creating a model with specified input and output layers"
   ]
  },
  {
   "cell_type": "code",
   "execution_count": 31,
   "id": "8f6e9bb7-9f97-4dc1-86be-5fc48f6411ba",
   "metadata": {},
   "outputs": [],
   "source": [
    "# Compile the model\n",
    "custom_model.compile(optimizer='rmsprop',\n",
    "                     loss='categorical_crossentropy',\n",
    "                     metrics=['accuracy'])"
   ]
  },
  {
   "cell_type": "code",
   "execution_count": 32,
   "id": "1a25412a-5625-4bc8-830d-ed7729714676",
   "metadata": {},
   "outputs": [
    {
     "name": "stdout",
     "output_type": "stream",
     "text": [
      "Epoch 1/5\n",
      "3/3 [==============================] - 1s 1ms/step - loss: 2.2666 - accuracy: 0.3333\n",
      "Epoch 2/5\n",
      "3/3 [==============================] - 0s 5ms/step - loss: 1.1795 - accuracy: 0.5000\n",
      "Epoch 3/5\n",
      "3/3 [==============================] - 0s 3ms/step - loss: 0.8988 - accuracy: 0.6389\n",
      "Epoch 4/5\n",
      "3/3 [==============================] - 0s 2ms/step - loss: 1.3032 - accuracy: 0.5278\n",
      "Epoch 5/5\n",
      "3/3 [==============================] - 0s 4ms/step - loss: 1.0725 - accuracy: 0.5000\n"
     ]
    },
    {
     "data": {
      "text/plain": [
       "<keras.callbacks.History at 0x222d36cf880>"
      ]
     },
     "execution_count": 32,
     "metadata": {},
     "output_type": "execute_result"
    }
   ],
   "source": [
    "# Train the model with the reshaped input data\n",
    "custom_model.fit(X_train, y_train, epochs=5, batch_size=30)"
   ]
  },
  {
   "cell_type": "code",
   "execution_count": 33,
   "id": "49596fdf-78a5-41f9-bccf-a83b17994526",
   "metadata": {},
   "outputs": [
    {
     "name": "stdout",
     "output_type": "stream",
     "text": [
      "1/1 [==============================] - 0s 221ms/step\n"
     ]
    }
   ],
   "source": [
    "# Make predictions on the testing set\n",
    "y_pred = custom_model.predict(X_test)\n",
    "\n",
    "# Convert one-hot encoded predictions to class labels (optional)\n",
    "y_pred_classes = np.argmax(y_pred, axis=1)"
   ]
  },
  {
   "cell_type": "code",
   "execution_count": 34,
   "id": "e7302232-5032-4d8b-b993-fb866b825b66",
   "metadata": {},
   "outputs": [
    {
     "name": "stdout",
     "output_type": "stream",
     "text": [
      "1/1 [==============================] - 0s 266ms/step - loss: 0.7714 - accuracy: 0.6667\n",
      "Test accuracy: 0.6666666865348816\n"
     ]
    }
   ],
   "source": [
    "# Evaluate the model\n",
    "test_loss, test_acc = custom_model.evaluate(X_test, y_test)\n",
    "print('Test accuracy:', test_acc)"
   ]
  },
  {
   "cell_type": "markdown",
   "id": "12903467-1eb9-419d-8ff4-035f85f46db3",
   "metadata": {},
   "source": [
    "\n",
    "We get the positive result model accuracy Now it was increased as \"0.6\".\n",
    "\n",
    "So we keep the optimizer as \"rmsprop\".\n",
    "\n",
    "Now we change the \"activation='softmax'\" as \"activation='sigmoid'\" and observe the change.\n",
    "\n",
    "we start the procedure from beginning."
   ]
  },
  {
   "cell_type": "code",
   "execution_count": 35,
   "id": "969f9ce2-f4c1-44de-85f3-d3fc62f9f348",
   "metadata": {},
   "outputs": [],
   "source": [
    "import pandas as pd\n",
    "import numpy as np\n",
    "from sklearn.model_selection import train_test_split\n",
    "from keras.models import Sequential\n",
    "from keras.layers import Dense\n",
    "from keras.utils import to_categorical\n",
    "from sklearn.preprocessing import OneHotEncoder\n",
    "from sklearn.preprocessing import LabelEncoder"
   ]
  },
  {
   "cell_type": "code",
   "execution_count": 36,
   "id": "a544024e-5a0e-49cb-901d-7f2107acd4bd",
   "metadata": {},
   "outputs": [],
   "source": [
    "# Load data from CSV file\n",
    "file_path = r'C:\\Users\\spthe\\OneDrive\\Desktop\\TreeDataSet.csv'  # Update with the correct file path\n",
    "data = pd.read_csv(file_path)"
   ]
  },
  {
   "cell_type": "code",
   "execution_count": 37,
   "id": "96f9062d-bcc5-413d-8c71-ff23af5212ee",
   "metadata": {},
   "outputs": [],
   "source": [
    "# Adjust column names\n",
    "data.columns = ['TreeSpecies', 'Ratio', 'Angle']"
   ]
  },
  {
   "cell_type": "code",
   "execution_count": 38,
   "id": "13ec90b3-49b6-4817-a845-66b936896092",
   "metadata": {},
   "outputs": [
    {
     "name": "stdout",
     "output_type": "stream",
     "text": [
      "Data types in features (X):\n",
      "Ratio    float64\n",
      "Angle      int64\n",
      "dtype: object\n",
      "Data type in labels (y):\n",
      "object\n"
     ]
    }
   ],
   "source": [
    "# Check for data types in features and labels (for debugging)\n",
    "print(\"Data types in features (X):\")\n",
    "print(data[[ 'Ratio', 'Angle']].dtypes)\n",
    "print(\"Data type in labels (y):\")\n",
    "print(data['TreeSpecies'].dtype)"
   ]
  },
  {
   "cell_type": "code",
   "execution_count": 39,
   "id": "df3faa24-ce3a-443f-b6b2-021b7d0affb2",
   "metadata": {},
   "outputs": [],
   "source": [
    "# Prepare features and labels\n",
    "# Select features excluding column names\n",
    "X = data[['Ratio', 'Angle']]"
   ]
  },
  {
   "cell_type": "code",
   "execution_count": 40,
   "id": "e2508655-7549-4fa5-971f-b5b68f0e6c1f",
   "metadata": {},
   "outputs": [],
   "source": [
    "# Attempt to convert features to numerics (assuming numerical data)\n",
    "X = X.apply(pd.to_numeric, errors='coerce').values"
   ]
  },
  {
   "cell_type": "code",
   "execution_count": 41,
   "id": "8c0634be-f0c8-4723-ae59-492f703cc6a6",
   "metadata": {},
   "outputs": [],
   "source": [
    "# Encode labels into integers (assuming categorical labels)\n",
    "label_encoder = LabelEncoder()\n",
    "y = label_encoder.fit_transform(data['TreeSpecies'].values)"
   ]
  },
  {
   "cell_type": "code",
   "execution_count": 42,
   "id": "edf2eace-2925-4c76-a704-d6245e28e1d2",
   "metadata": {},
   "outputs": [
    {
     "name": "stdout",
     "output_type": "stream",
     "text": [
      "Number of unique classes after label encoding: 3\n"
     ]
    }
   ],
   "source": [
    "# Check the number of unique classes after label encoding (for debugging)\n",
    "print(\"Number of unique classes after label encoding:\", len(label_encoder.classes_))"
   ]
  },
  {
   "cell_type": "code",
   "execution_count": 43,
   "id": "2f0308a3-634b-42c3-b248-a526f8c54397",
   "metadata": {},
   "outputs": [],
   "source": [
    "# Convert labels to categorical (one-hot encoding)\n",
    "encoder = OneHotEncoder(sparse=False)\n",
    "y = encoder.fit_transform(y.reshape(-1, 1))  # Reshape for compatibility"
   ]
  },
  {
   "cell_type": "code",
   "execution_count": 44,
   "id": "203a25e3-fc85-4ef0-a687-3f4daf26dd05",
   "metadata": {},
   "outputs": [
    {
     "name": "stdout",
     "output_type": "stream",
     "text": [
      "Shape of encoded labels (y): (90, 3)\n"
     ]
    }
   ],
   "source": [
    "# Check the shape of the encoded labels (for debugging)\n",
    "print(\"Shape of encoded labels (y):\", y.shape)"
   ]
  },
  {
   "cell_type": "code",
   "execution_count": 45,
   "id": "73ec328a-bb05-4d37-b153-b7c3980b0b55",
   "metadata": {},
   "outputs": [],
   "source": [
    "# Split data into training and testing sets\n",
    "X_train, X_test, y_train, y_test = train_test_split(X, y, test_size=0.2, random_state=3)"
   ]
  },
  {
   "cell_type": "code",
   "execution_count": 46,
   "id": "4aa136c1-dbb5-4708-9c90-b9d0cedda123",
   "metadata": {},
   "outputs": [
    {
     "name": "stdout",
     "output_type": "stream",
     "text": [
      "Shape of training features (X_train): (72, 2)\n"
     ]
    }
   ],
   "source": [
    "# Print the shape of training features (for debugging)\n",
    "print(\"Shape of training features (X_train):\", X_train.shape)"
   ]
  },
  {
   "cell_type": "code",
   "execution_count": 47,
   "id": "247f94c2-7a31-45c7-ad6d-6cefba7d6eba",
   "metadata": {},
   "outputs": [],
   "source": [
    "from keras.models import Model\n",
    "from keras.layers import Input, Dense\n",
    "\n",
    "# Define the input layer with shape (2,)\n",
    "input_layer = Input(shape=(2,))\n",
    "\n",
    "# Define the layers of the model\n",
    "hidden_layer1 = Dense(units=30, activation='relu')(input_layer) # First hidden layer with 30 units and ReLU activation\n",
    "hidden_layer2 = Dense(units=30, activation='relu')(hidden_layer1) # Second hidden layer with 30 units and ReLU activation\n",
    "output_layer = Dense(units=3, activation='sigmoid')(hidden_layer2) # Output layer with 5 units and softmax activation\n",
    "\n",
    "# Define the model\n",
    "custom_model = Model(inputs=input_layer, outputs=output_layer) # Creating a model with specified input and output layers"
   ]
  },
  {
   "cell_type": "code",
   "execution_count": 48,
   "id": "f3198094-fffc-4ef6-8c99-043e85dbc4b7",
   "metadata": {},
   "outputs": [],
   "source": [
    "# Compile the model\n",
    "custom_model.compile(optimizer='rmsprop',\n",
    "                     loss='categorical_crossentropy',\n",
    "                     metrics=['accuracy'])"
   ]
  },
  {
   "cell_type": "code",
   "execution_count": 49,
   "id": "e2f8c4b9-e801-4177-a04c-f42c997ede68",
   "metadata": {},
   "outputs": [
    {
     "name": "stdout",
     "output_type": "stream",
     "text": [
      "Epoch 1/5\n",
      "3/3 [==============================] - 1s 5ms/step - loss: 7.3796 - accuracy: 0.3333\n",
      "Epoch 2/5\n",
      "3/3 [==============================] - 0s 5ms/step - loss: 5.9901 - accuracy: 0.2778\n",
      "Epoch 3/5\n",
      "3/3 [==============================] - 0s 5ms/step - loss: 5.4281 - accuracy: 0.2500\n",
      "Epoch 4/5\n",
      "3/3 [==============================] - 0s 6ms/step - loss: 4.7977 - accuracy: 0.2917\n",
      "Epoch 5/5\n",
      "3/3 [==============================] - 0s 1ms/step - loss: 4.2366 - accuracy: 0.3056\n"
     ]
    },
    {
     "data": {
      "text/plain": [
       "<keras.callbacks.History at 0x222d39f1af0>"
      ]
     },
     "execution_count": 49,
     "metadata": {},
     "output_type": "execute_result"
    }
   ],
   "source": [
    "# Train the model with the reshaped input data\n",
    "custom_model.fit(X_train, y_train, epochs=5, batch_size=30)"
   ]
  },
  {
   "cell_type": "code",
   "execution_count": 50,
   "id": "4d84c632-a375-4256-aa5b-4e10414b5cff",
   "metadata": {},
   "outputs": [
    {
     "name": "stdout",
     "output_type": "stream",
     "text": [
      "1/1 [==============================] - 0s 113ms/step\n"
     ]
    }
   ],
   "source": [
    "# Make predictions on the testing set\n",
    "y_pred = custom_model.predict(X_test)\n",
    "\n",
    "# Convert one-hot encoded predictions to class labels (optional)\n",
    "y_pred_classes = np.argmax(y_pred, axis=1)"
   ]
  },
  {
   "cell_type": "code",
   "execution_count": 51,
   "id": "8131aa1c-7a3b-4075-a82c-40d2707f3287",
   "metadata": {},
   "outputs": [
    {
     "name": "stdout",
     "output_type": "stream",
     "text": [
      "1/1 [==============================] - 0s 222ms/step - loss: 3.3759 - accuracy: 0.3333\n",
      "Test accuracy: 0.3333333432674408\n"
     ]
    }
   ],
   "source": [
    "# Evaluate the model\n",
    "test_loss, test_acc = custom_model.evaluate(X_test, y_test)\n",
    "print('Test accuracy:', test_acc)"
   ]
  },
  {
   "cell_type": "markdown",
   "id": "98a6f881-8471-4eaf-a92a-66f7d417797a",
   "metadata": {},
   "source": [
    "\n",
    "Now we get the Negative result, the model accuracy was decreased as \"0.3\"\n",
    "\n",
    "So we keep the \"activation='softmax'\"\n",
    "\n",
    "we change the \"hidden_layer1 = Dense(units=30\" as \"hidden_layer1 = Dense(units=60,\" and observe the changes."
   ]
  },
  {
   "cell_type": "code",
   "execution_count": 52,
   "id": "f531d431-4202-4ae6-87e9-37b6a22fc80a",
   "metadata": {},
   "outputs": [],
   "source": [
    "import pandas as pd\n",
    "import numpy as np\n",
    "from sklearn.model_selection import train_test_split\n",
    "from keras.models import Sequential\n",
    "from keras.layers import Dense\n",
    "from keras.utils import to_categorical\n",
    "from sklearn.preprocessing import OneHotEncoder\n",
    "from sklearn.preprocessing import LabelEncoder"
   ]
  },
  {
   "cell_type": "code",
   "execution_count": 53,
   "id": "29851b63-796c-4cf7-938b-60ee2940a7ee",
   "metadata": {},
   "outputs": [],
   "source": [
    "# Load data from CSV file\n",
    "file_path = r'C:\\Users\\spthe\\OneDrive\\Desktop\\TreeDataSet.csv'  # Update with the correct file path\n",
    "data = pd.read_csv(file_path)"
   ]
  },
  {
   "cell_type": "code",
   "execution_count": 54,
   "id": "e332a34c-79da-4bc2-b5ea-3720a452ed6c",
   "metadata": {},
   "outputs": [],
   "source": [
    "# Adjust column names\n",
    "data.columns = ['TreeSpecies', 'Ratio', 'Angle']"
   ]
  },
  {
   "cell_type": "code",
   "execution_count": 55,
   "id": "a3d509bc-7ea5-48ec-a35d-a70dac91d953",
   "metadata": {},
   "outputs": [
    {
     "name": "stdout",
     "output_type": "stream",
     "text": [
      "Data types in features (X):\n",
      "Ratio    float64\n",
      "Angle      int64\n",
      "dtype: object\n",
      "Data type in labels (y):\n",
      "object\n"
     ]
    }
   ],
   "source": [
    "# Check for data types in features and labels (for debugging)\n",
    "print(\"Data types in features (X):\")\n",
    "print(data[[ 'Ratio', 'Angle']].dtypes)\n",
    "print(\"Data type in labels (y):\")\n",
    "print(data['TreeSpecies'].dtype)"
   ]
  },
  {
   "cell_type": "code",
   "execution_count": 56,
   "id": "7ff59e24-0ae7-4dee-96d1-a52741c96895",
   "metadata": {},
   "outputs": [],
   "source": [
    "# Prepare features and labels\n",
    "# Select features excluding column names\n",
    "X = data[['Ratio', 'Angle']]"
   ]
  },
  {
   "cell_type": "code",
   "execution_count": 57,
   "id": "460c8abb-3bd9-428b-904b-2aa895260c1f",
   "metadata": {},
   "outputs": [],
   "source": [
    "# Attempt to convert features to numerics (assuming numerical data)\n",
    "X = X.apply(pd.to_numeric, errors='coerce').values"
   ]
  },
  {
   "cell_type": "code",
   "execution_count": 58,
   "id": "34abcd9b-1025-4107-847a-5354dd7f3ebf",
   "metadata": {},
   "outputs": [],
   "source": [
    "# Encode labels into integers (assuming categorical labels)\n",
    "label_encoder = LabelEncoder()\n",
    "y = label_encoder.fit_transform(data['TreeSpecies'].values)"
   ]
  },
  {
   "cell_type": "code",
   "execution_count": 59,
   "id": "7db5cb0a-00bc-4526-9db4-ed1480deb6b3",
   "metadata": {},
   "outputs": [
    {
     "name": "stdout",
     "output_type": "stream",
     "text": [
      "Number of unique classes after label encoding: 3\n"
     ]
    }
   ],
   "source": [
    "# Check the number of unique classes after label encoding (for debugging)\n",
    "print(\"Number of unique classes after label encoding:\", len(label_encoder.classes_))"
   ]
  },
  {
   "cell_type": "code",
   "execution_count": 60,
   "id": "81691ac5-d307-4476-a2bd-60c2c8e5a74a",
   "metadata": {},
   "outputs": [],
   "source": [
    "# Convert labels to categorical (one-hot encoding)\n",
    "encoder = OneHotEncoder(sparse=False)\n",
    "y = encoder.fit_transform(y.reshape(-1, 1))  # Reshape for compatibility"
   ]
  },
  {
   "cell_type": "code",
   "execution_count": 61,
   "id": "f098bc9e-e3da-4dc8-a64e-055d18312881",
   "metadata": {},
   "outputs": [
    {
     "name": "stdout",
     "output_type": "stream",
     "text": [
      "Shape of encoded labels (y): (90, 3)\n"
     ]
    }
   ],
   "source": [
    "# Check the shape of the encoded labels (for debugging)\n",
    "print(\"Shape of encoded labels (y):\", y.shape)"
   ]
  },
  {
   "cell_type": "code",
   "execution_count": 62,
   "id": "2419b65d-b83e-4f9f-8f66-17b84f87bbc0",
   "metadata": {},
   "outputs": [],
   "source": [
    "# Split data into training and testing sets\n",
    "X_train, X_test, y_train, y_test = train_test_split(X, y, test_size=0.2, random_state=3)"
   ]
  },
  {
   "cell_type": "code",
   "execution_count": 63,
   "id": "3d62594a-d302-419c-b755-002664c7619a",
   "metadata": {},
   "outputs": [
    {
     "name": "stdout",
     "output_type": "stream",
     "text": [
      "Shape of training features (X_train): (72, 2)\n"
     ]
    }
   ],
   "source": [
    "# Print the shape of training features (for debugging)\n",
    "print(\"Shape of training features (X_train):\", X_train.shape)"
   ]
  },
  {
   "cell_type": "code",
   "execution_count": 64,
   "id": "d762473f-f7ac-4682-a647-0eca9b211af3",
   "metadata": {},
   "outputs": [],
   "source": [
    "from keras.models import Model\n",
    "from keras.layers import Input, Dense\n",
    "\n",
    "# Define the input layer with shape (2,)\n",
    "input_layer = Input(shape=(2,))\n",
    "\n",
    "# Define the layers of the model\n",
    "hidden_layer1 = Dense(units=60, activation='relu')(input_layer) # First hidden layer with 30 units and ReLU activation\n",
    "hidden_layer2 = Dense(units=30, activation='relu')(hidden_layer1) # Second hidden layer with 30 units and ReLU activation\n",
    "output_layer = Dense(units=3, activation='softmax')(hidden_layer2) # Output layer with 5 units and softmax activation\n",
    "\n",
    "# Define the model\n",
    "custom_model = Model(inputs=input_layer, outputs=output_layer) # Creating a model with specified input and output layers"
   ]
  },
  {
   "cell_type": "code",
   "execution_count": 65,
   "id": "6e32e1da-0cb7-450e-9778-0bc0b0518831",
   "metadata": {},
   "outputs": [],
   "source": [
    "# Compile the model\n",
    "custom_model.compile(optimizer='rmsprop',\n",
    "                     loss='categorical_crossentropy',\n",
    "                     metrics=['accuracy'])"
   ]
  },
  {
   "cell_type": "code",
   "execution_count": 66,
   "id": "c66b7a17-fdbe-4d0d-8841-da14f29f766f",
   "metadata": {},
   "outputs": [
    {
     "name": "stdout",
     "output_type": "stream",
     "text": [
      "Epoch 1/5\n",
      "3/3 [==============================] - 1s 3ms/step - loss: 2.4155 - accuracy: 0.3194\n",
      "Epoch 2/5\n",
      "3/3 [==============================] - 0s 173us/step - loss: 1.1970 - accuracy: 0.2917\n",
      "Epoch 3/5\n",
      "3/3 [==============================] - 0s 3ms/step - loss: 1.2216 - accuracy: 0.3472\n",
      "Epoch 4/5\n",
      "3/3 [==============================] - 0s 2ms/step - loss: 0.9477 - accuracy: 0.3889\n",
      "Epoch 5/5\n",
      "3/3 [==============================] - 0s 5ms/step - loss: 0.9301 - accuracy: 0.4861\n"
     ]
    },
    {
     "data": {
      "text/plain": [
       "<keras.callbacks.History at 0x222d4fddcd0>"
      ]
     },
     "execution_count": 66,
     "metadata": {},
     "output_type": "execute_result"
    }
   ],
   "source": [
    "# Train the model with the reshaped input data\n",
    "custom_model.fit(X_train, y_train, epochs=5, batch_size=30)"
   ]
  },
  {
   "cell_type": "code",
   "execution_count": 67,
   "id": "0dc0aa0e-b8d0-4aa9-91e7-3dd5e5dd2a6f",
   "metadata": {},
   "outputs": [
    {
     "name": "stdout",
     "output_type": "stream",
     "text": [
      "1/1 [==============================] - 0s 60ms/step\n"
     ]
    }
   ],
   "source": [
    "# Make predictions on the testing set\n",
    "y_pred = custom_model.predict(X_test)\n",
    "\n",
    "# Convert one-hot encoded predictions to class labels (optional)\n",
    "y_pred_classes = np.argmax(y_pred, axis=1)"
   ]
  },
  {
   "cell_type": "code",
   "execution_count": 68,
   "id": "af7640c8-8b2b-4374-93e6-e2d8cb8eab32",
   "metadata": {},
   "outputs": [
    {
     "name": "stdout",
     "output_type": "stream",
     "text": [
      "1/1 [==============================] - 0s 130ms/step - loss: 0.9512 - accuracy: 0.3889\n",
      "Test accuracy: 0.3888888955116272\n"
     ]
    }
   ],
   "source": [
    "# Evaluate the model\n",
    "test_loss, test_acc = custom_model.evaluate(X_test, y_test)\n",
    "print('Test accuracy:', test_acc)"
   ]
  },
  {
   "cell_type": "markdown",
   "id": "cc42647a-8dc8-4f44-8735-3103d6fd8bc5",
   "metadata": {},
   "source": [
    "\n",
    "Now we get the positive result but not as same because in the previous procedure accuracy was\"0.66\". \n",
    "\n",
    "Now the accuracy was \"0.38\".\n",
    "\n",
    "we change the \"hidden_layer1 = Dense(units=60\" as \"hidden_layer1 = Dense(units=90,\" and observe the changes."
   ]
  },
  {
   "cell_type": "code",
   "execution_count": 69,
   "id": "d0c30647-8f40-4505-a53d-71886b722f18",
   "metadata": {},
   "outputs": [],
   "source": [
    "import pandas as pd\n",
    "import numpy as np\n",
    "from sklearn.model_selection import train_test_split\n",
    "from keras.models import Sequential\n",
    "from keras.layers import Dense\n",
    "from keras.utils import to_categorical\n",
    "from sklearn.preprocessing import OneHotEncoder\n",
    "from sklearn.preprocessing import LabelEncoder"
   ]
  },
  {
   "cell_type": "code",
   "execution_count": 70,
   "id": "b6aca034-a709-4eb3-8ca0-0fb9eddaa3cc",
   "metadata": {},
   "outputs": [],
   "source": [
    "# Load data from CSV file\n",
    "file_path = r'C:\\Users\\spthe\\OneDrive\\Desktop\\TreeDataSet.csv'  # Update with the correct file path\n",
    "data = pd.read_csv(file_path)"
   ]
  },
  {
   "cell_type": "code",
   "execution_count": 71,
   "id": "932662c3-c784-4057-bb7a-f5443193be8f",
   "metadata": {},
   "outputs": [],
   "source": [
    "# Adjust column names\n",
    "data.columns = ['TreeSpecies', 'Ratio', 'Angle']"
   ]
  },
  {
   "cell_type": "code",
   "execution_count": 72,
   "id": "ad795405-a97d-4dbf-843f-0d3772227d98",
   "metadata": {},
   "outputs": [
    {
     "name": "stdout",
     "output_type": "stream",
     "text": [
      "Data types in features (X):\n",
      "Ratio    float64\n",
      "Angle      int64\n",
      "dtype: object\n",
      "Data type in labels (y):\n",
      "object\n"
     ]
    }
   ],
   "source": [
    "# Check for data types in features and labels (for debugging)\n",
    "print(\"Data types in features (X):\")\n",
    "print(data[[ 'Ratio', 'Angle']].dtypes)\n",
    "print(\"Data type in labels (y):\")\n",
    "print(data['TreeSpecies'].dtype)"
   ]
  },
  {
   "cell_type": "code",
   "execution_count": 73,
   "id": "af56c8c5-8aac-4e9c-8ac9-c7ae02e4fa88",
   "metadata": {},
   "outputs": [],
   "source": [
    "# Prepare features and labels\n",
    "# Select features excluding column names\n",
    "X = data[['Ratio', 'Angle']]"
   ]
  },
  {
   "cell_type": "code",
   "execution_count": 74,
   "id": "38177bcc-6831-4cd9-b100-417db1f63dd9",
   "metadata": {},
   "outputs": [],
   "source": [
    "# Attempt to convert features to numerics (assuming numerical data)\n",
    "X = X.apply(pd.to_numeric, errors='coerce').values"
   ]
  },
  {
   "cell_type": "code",
   "execution_count": 75,
   "id": "427a1f49-45ca-406f-9bdb-c4bb9b82b90b",
   "metadata": {},
   "outputs": [],
   "source": [
    "# Encode labels into integers (assuming categorical labels)\n",
    "label_encoder = LabelEncoder()\n",
    "y = label_encoder.fit_transform(data['TreeSpecies'].values)"
   ]
  },
  {
   "cell_type": "code",
   "execution_count": 76,
   "id": "b7028609-a46d-48e5-86d9-03c0588a5f78",
   "metadata": {},
   "outputs": [
    {
     "name": "stdout",
     "output_type": "stream",
     "text": [
      "Number of unique classes after label encoding: 3\n"
     ]
    }
   ],
   "source": [
    "# Check the number of unique classes after label encoding (for debugging)\n",
    "print(\"Number of unique classes after label encoding:\", len(label_encoder.classes_))"
   ]
  },
  {
   "cell_type": "code",
   "execution_count": 77,
   "id": "776c385d-074d-4b97-9f80-7fb460d44338",
   "metadata": {},
   "outputs": [],
   "source": [
    "# Convert labels to categorical (one-hot encoding)\n",
    "encoder = OneHotEncoder(sparse=False)\n",
    "y = encoder.fit_transform(y.reshape(-1, 1))  # Reshape for compatibility"
   ]
  },
  {
   "cell_type": "code",
   "execution_count": 78,
   "id": "50ba9fb5-e7af-4857-b62b-954aab9aee15",
   "metadata": {},
   "outputs": [
    {
     "name": "stdout",
     "output_type": "stream",
     "text": [
      "Shape of encoded labels (y): (90, 3)\n"
     ]
    }
   ],
   "source": [
    "# Check the shape of the encoded labels (for debugging)\n",
    "print(\"Shape of encoded labels (y):\", y.shape)"
   ]
  },
  {
   "cell_type": "code",
   "execution_count": 79,
   "id": "ae931bb1-f800-4723-a2af-bb673f7a55a4",
   "metadata": {},
   "outputs": [],
   "source": [
    "# Split data into training and testing sets\n",
    "X_train, X_test, y_train, y_test = train_test_split(X, y, test_size=0.2, random_state=3)"
   ]
  },
  {
   "cell_type": "code",
   "execution_count": 80,
   "id": "55ae329d-6ba3-4700-8db4-db8cb916ee51",
   "metadata": {},
   "outputs": [
    {
     "name": "stdout",
     "output_type": "stream",
     "text": [
      "Shape of training features (X_train): (72, 2)\n"
     ]
    }
   ],
   "source": [
    "# Print the shape of training features (for debugging)\n",
    "print(\"Shape of training features (X_train):\", X_train.shape)"
   ]
  },
  {
   "cell_type": "code",
   "execution_count": 81,
   "id": "0eec726c-f145-4b44-a74e-9d394c7edfb0",
   "metadata": {},
   "outputs": [],
   "source": [
    "from keras.models import Model\n",
    "from keras.layers import Input, Dense\n",
    "\n",
    "# Define the input layer with shape (2,)\n",
    "input_layer = Input(shape=(2,))\n",
    "\n",
    "# Define the layers of the model\n",
    "hidden_layer1 = Dense(units=90, activation='relu')(input_layer) # First hidden layer with 30 units and ReLU activation\n",
    "hidden_layer2 = Dense(units=30, activation='relu')(hidden_layer1) # Second hidden layer with 30 units and ReLU activation\n",
    "output_layer = Dense(units=3, activation='softmax')(hidden_layer2) # Output layer with 5 units and softmax activation\n",
    "\n",
    "# Define the model\n",
    "custom_model = Model(inputs=input_layer, outputs=output_layer) # Creating a model with specified input and output layers"
   ]
  },
  {
   "cell_type": "code",
   "execution_count": 82,
   "id": "5e8e9fcc-a4b9-45eb-9d99-d3e82a6b81fc",
   "metadata": {},
   "outputs": [],
   "source": [
    "# Compile the model\n",
    "custom_model.compile(optimizer='rmsprop',\n",
    "                     loss='categorical_crossentropy',\n",
    "                     metrics=['accuracy'])"
   ]
  },
  {
   "cell_type": "code",
   "execution_count": 83,
   "id": "8d46712c-eee5-4948-bf1b-44fccc8711ff",
   "metadata": {},
   "outputs": [
    {
     "name": "stdout",
     "output_type": "stream",
     "text": [
      "Epoch 1/5\n",
      "3/3 [==============================] - 0s 8ms/step - loss: 3.0841 - accuracy: 0.4028\n",
      "Epoch 2/5\n",
      "3/3 [==============================] - 0s 0s/step - loss: 0.9814 - accuracy: 0.3333\n",
      "Epoch 3/5\n",
      "3/3 [==============================] - 0s 2ms/step - loss: 0.7340 - accuracy: 0.7639\n",
      "Epoch 4/5\n",
      "3/3 [==============================] - 0s 5ms/step - loss: 0.9909 - accuracy: 0.6528\n",
      "Epoch 5/5\n",
      "3/3 [==============================] - 0s 2ms/step - loss: 0.7007 - accuracy: 0.7222\n"
     ]
    },
    {
     "data": {
      "text/plain": [
       "<keras.callbacks.History at 0x222d63debb0>"
      ]
     },
     "execution_count": 83,
     "metadata": {},
     "output_type": "execute_result"
    }
   ],
   "source": [
    "# Train the model with the reshaped input data\n",
    "custom_model.fit(X_train, y_train, epochs=5, batch_size=30)"
   ]
  },
  {
   "cell_type": "code",
   "execution_count": 84,
   "id": "5a1719f3-56d7-4f73-acb1-b2ec6b3e1923",
   "metadata": {},
   "outputs": [
    {
     "name": "stdout",
     "output_type": "stream",
     "text": [
      "WARNING:tensorflow:5 out of the last 5 calls to <function Model.make_predict_function.<locals>.predict_function at 0x00000222D6644AF0> triggered tf.function retracing. Tracing is expensive and the excessive number of tracings could be due to (1) creating @tf.function repeatedly in a loop, (2) passing tensors with different shapes, (3) passing Python objects instead of tensors. For (1), please define your @tf.function outside of the loop. For (2), @tf.function has reduce_retracing=True option that can avoid unnecessary retracing. For (3), please refer to https://www.tensorflow.org/guide/function#controlling_retracing and https://www.tensorflow.org/api_docs/python/tf/function for  more details.\n",
      "1/1 [==============================] - 0s 62ms/step\n"
     ]
    }
   ],
   "source": [
    "# Make predictions on the testing set\n",
    "y_pred = custom_model.predict(X_test)\n",
    "\n",
    "# Convert one-hot encoded predictions to class labels (optional)\n",
    "y_pred_classes = np.argmax(y_pred, axis=1)"
   ]
  },
  {
   "cell_type": "code",
   "execution_count": 85,
   "id": "6f545a5d-6bae-44e6-bbad-1e0b3c158fdd",
   "metadata": {},
   "outputs": [
    {
     "name": "stdout",
     "output_type": "stream",
     "text": [
      "WARNING:tensorflow:5 out of the last 5 calls to <function Model.make_test_function.<locals>.test_function at 0x00000222D769A040> triggered tf.function retracing. Tracing is expensive and the excessive number of tracings could be due to (1) creating @tf.function repeatedly in a loop, (2) passing tensors with different shapes, (3) passing Python objects instead of tensors. For (1), please define your @tf.function outside of the loop. For (2), @tf.function has reduce_retracing=True option that can avoid unnecessary retracing. For (3), please refer to https://www.tensorflow.org/guide/function#controlling_retracing and https://www.tensorflow.org/api_docs/python/tf/function for  more details.\n",
      "1/1 [==============================] - 0s 135ms/step - loss: 1.0926 - accuracy: 0.4444\n",
      "Test accuracy: 0.4444444477558136\n"
     ]
    }
   ],
   "source": [
    "# Evaluate the model\n",
    "test_loss, test_acc = custom_model.evaluate(X_test, y_test)\n",
    "print('Test accuracy:', test_acc)"
   ]
  },
  {
   "cell_type": "markdown",
   "id": "91c8acd1-bc29-455c-bcd7-1b4a3c58f9b9",
   "metadata": {},
   "source": [
    "\n",
    "Now we get the positive result, the model accuracy was slightly increased as \"0.44\" so we keep the change.\n",
    "\n",
    "Now we change the \"hidden_layer2 = Dense(units=30,\" as \"hidden_layer2 = Dense(units=15,\" and observe the changes."
   ]
  },
  {
   "cell_type": "code",
   "execution_count": 86,
   "id": "f67811ec-127f-47a0-af2a-b1c3304a084c",
   "metadata": {},
   "outputs": [],
   "source": [
    "import pandas as pd\n",
    "import numpy as np\n",
    "from sklearn.model_selection import train_test_split\n",
    "from keras.models import Sequential\n",
    "from keras.layers import Dense\n",
    "from keras.utils import to_categorical\n",
    "from sklearn.preprocessing import OneHotEncoder\n",
    "from sklearn.preprocessing import LabelEncoder"
   ]
  },
  {
   "cell_type": "code",
   "execution_count": 87,
   "id": "f07cf9ca-67cd-491b-bdaf-054d3416ac22",
   "metadata": {},
   "outputs": [],
   "source": [
    "# Load data from CSV file\n",
    "file_path = r'C:\\Users\\spthe\\OneDrive\\Desktop\\TreeDataSet.csv'  # Update with the correct file path\n",
    "data = pd.read_csv(file_path)"
   ]
  },
  {
   "cell_type": "code",
   "execution_count": 88,
   "id": "151cc535-61b7-4912-8d0e-123c40fc0ba8",
   "metadata": {},
   "outputs": [],
   "source": [
    "# Adjust column names\n",
    "data.columns = ['TreeSpecies', 'Ratio', 'Angle']"
   ]
  },
  {
   "cell_type": "code",
   "execution_count": 89,
   "id": "70063b1a-0206-487a-ba6b-79f133bb77f9",
   "metadata": {},
   "outputs": [
    {
     "name": "stdout",
     "output_type": "stream",
     "text": [
      "Data types in features (X):\n",
      "Ratio    float64\n",
      "Angle      int64\n",
      "dtype: object\n",
      "Data type in labels (y):\n",
      "object\n"
     ]
    }
   ],
   "source": [
    "# Check for data types in features and labels (for debugging)\n",
    "print(\"Data types in features (X):\")\n",
    "print(data[[ 'Ratio', 'Angle']].dtypes)\n",
    "print(\"Data type in labels (y):\")\n",
    "print(data['TreeSpecies'].dtype)"
   ]
  },
  {
   "cell_type": "code",
   "execution_count": 90,
   "id": "5ff59d2e-c9e5-476c-91cd-018691ec5f95",
   "metadata": {},
   "outputs": [],
   "source": [
    "# Prepare features and labels\n",
    "# Select features excluding column names\n",
    "X = data[['Ratio', 'Angle']]"
   ]
  },
  {
   "cell_type": "code",
   "execution_count": 91,
   "id": "34564227-d481-487f-87e8-31bb217c1645",
   "metadata": {},
   "outputs": [],
   "source": [
    "# Attempt to convert features to numerics (assuming numerical data)\n",
    "X = X.apply(pd.to_numeric, errors='coerce').values"
   ]
  },
  {
   "cell_type": "code",
   "execution_count": 92,
   "id": "2f5d7ed3-9d4b-450a-9214-fd13be9fa945",
   "metadata": {},
   "outputs": [],
   "source": [
    "# Encode labels into integers (assuming categorical labels)\n",
    "label_encoder = LabelEncoder()\n",
    "y = label_encoder.fit_transform(data['TreeSpecies'].values)"
   ]
  },
  {
   "cell_type": "code",
   "execution_count": 93,
   "id": "30dc8186-b5fc-40ae-9c44-1b153b7bb2b5",
   "metadata": {},
   "outputs": [
    {
     "name": "stdout",
     "output_type": "stream",
     "text": [
      "Number of unique classes after label encoding: 3\n"
     ]
    }
   ],
   "source": [
    "# Check the number of unique classes after label encoding (for debugging)\n",
    "print(\"Number of unique classes after label encoding:\", len(label_encoder.classes_))"
   ]
  },
  {
   "cell_type": "code",
   "execution_count": 94,
   "id": "752a6f29-6fcd-4f1a-9ebd-e46011a1c481",
   "metadata": {},
   "outputs": [],
   "source": [
    "# Convert labels to categorical (one-hot encoding)\n",
    "encoder = OneHotEncoder(sparse=False)\n",
    "y = encoder.fit_transform(y.reshape(-1, 1))  # Reshape for compatibility"
   ]
  },
  {
   "cell_type": "code",
   "execution_count": 95,
   "id": "b18d6fc4-11dd-46c8-86f3-3782192f6cf1",
   "metadata": {},
   "outputs": [
    {
     "name": "stdout",
     "output_type": "stream",
     "text": [
      "Shape of encoded labels (y): (90, 3)\n"
     ]
    }
   ],
   "source": [
    "# Check the shape of the encoded labels (for debugging)\n",
    "print(\"Shape of encoded labels (y):\", y.shape)"
   ]
  },
  {
   "cell_type": "code",
   "execution_count": 96,
   "id": "92264f53-2f32-4a1d-a948-7b88be78f3b4",
   "metadata": {},
   "outputs": [],
   "source": [
    "# Split data into training and testing sets\n",
    "X_train, X_test, y_train, y_test = train_test_split(X, y, test_size=0.2, random_state=3)"
   ]
  },
  {
   "cell_type": "code",
   "execution_count": 97,
   "id": "17014386-20ea-4a5a-9193-0984fcb518de",
   "metadata": {},
   "outputs": [
    {
     "name": "stdout",
     "output_type": "stream",
     "text": [
      "Shape of training features (X_train): (72, 2)\n"
     ]
    }
   ],
   "source": [
    "# Print the shape of training features (for debugging)\n",
    "print(\"Shape of training features (X_train):\", X_train.shape)"
   ]
  },
  {
   "cell_type": "code",
   "execution_count": 98,
   "id": "44753ca9-40a0-4586-8848-35124e0d26c3",
   "metadata": {},
   "outputs": [],
   "source": [
    "from keras.models import Model\n",
    "from keras.layers import Input, Dense\n",
    "\n",
    "# Define the input layer with shape (2,)\n",
    "input_layer = Input(shape=(2,))\n",
    "\n",
    "# Define the layers of the model\n",
    "hidden_layer1 = Dense(units=90, activation='relu')(input_layer) # First hidden layer with 30 units and ReLU activation\n",
    "hidden_layer2 = Dense(units=15, activation='relu')(hidden_layer1) # Second hidden layer with 30 units and ReLU activation\n",
    "output_layer = Dense(units=3, activation='softmax')(hidden_layer2) # Output layer with 5 units and softmax activation\n",
    "\n",
    "# Define the model\n",
    "custom_model = Model(inputs=input_layer, outputs=output_layer) # Creating a model with specified input and output layers"
   ]
  },
  {
   "cell_type": "code",
   "execution_count": 99,
   "id": "8672eed1-2e26-41a9-a8d9-5aa11fde2ff4",
   "metadata": {},
   "outputs": [],
   "source": [
    "# Compile the model\n",
    "custom_model.compile(optimizer='rmsprop',\n",
    "                     loss='categorical_crossentropy',\n",
    "                     metrics=['accuracy'])"
   ]
  },
  {
   "cell_type": "code",
   "execution_count": 100,
   "id": "b1291124-2068-4e32-94f3-4e34e3e9ee2b",
   "metadata": {},
   "outputs": [
    {
     "name": "stdout",
     "output_type": "stream",
     "text": [
      "Epoch 1/5\n",
      "3/3 [==============================] - 2s 13ms/step - loss: 3.8161 - accuracy: 0.2778\n",
      "Epoch 2/5\n",
      "3/3 [==============================] - 0s 4ms/step - loss: 1.5410 - accuracy: 0.2778\n",
      "Epoch 3/5\n",
      "3/3 [==============================] - 0s 6ms/step - loss: 1.1037 - accuracy: 0.3194\n",
      "Epoch 4/5\n",
      "3/3 [==============================] - 0s 4ms/step - loss: 1.0881 - accuracy: 0.3194\n",
      "Epoch 5/5\n",
      "3/3 [==============================] - 0s 2ms/step - loss: 1.1755 - accuracy: 0.3194\n"
     ]
    },
    {
     "data": {
      "text/plain": [
       "<keras.callbacks.History at 0x222d7798ca0>"
      ]
     },
     "execution_count": 100,
     "metadata": {},
     "output_type": "execute_result"
    }
   ],
   "source": [
    "# Train the model with the reshaped input data\n",
    "custom_model.fit(X_train, y_train, epochs=5, batch_size=30)"
   ]
  },
  {
   "cell_type": "code",
   "execution_count": 101,
   "id": "c83f0faf-944f-4f78-8c95-abce961a6226",
   "metadata": {},
   "outputs": [
    {
     "name": "stdout",
     "output_type": "stream",
     "text": [
      "WARNING:tensorflow:6 out of the last 6 calls to <function Model.make_predict_function.<locals>.predict_function at 0x00000222D77EDE50> triggered tf.function retracing. Tracing is expensive and the excessive number of tracings could be due to (1) creating @tf.function repeatedly in a loop, (2) passing tensors with different shapes, (3) passing Python objects instead of tensors. For (1), please define your @tf.function outside of the loop. For (2), @tf.function has reduce_retracing=True option that can avoid unnecessary retracing. For (3), please refer to https://www.tensorflow.org/guide/function#controlling_retracing and https://www.tensorflow.org/api_docs/python/tf/function for  more details.\n",
      "1/1 [==============================] - 0s 103ms/step\n"
     ]
    }
   ],
   "source": [
    "# Make predictions on the testing set\n",
    "y_pred = custom_model.predict(X_test)\n",
    "\n",
    "# Convert one-hot encoded predictions to class labels (optional)\n",
    "y_pred_classes = np.argmax(y_pred, axis=1)"
   ]
  },
  {
   "cell_type": "code",
   "execution_count": 102,
   "id": "6f49ed2f-750e-4d2e-a661-a85cc746f7f7",
   "metadata": {},
   "outputs": [
    {
     "name": "stdout",
     "output_type": "stream",
     "text": [
      "WARNING:tensorflow:6 out of the last 6 calls to <function Model.make_test_function.<locals>.test_function at 0x00000222D776D040> triggered tf.function retracing. Tracing is expensive and the excessive number of tracings could be due to (1) creating @tf.function repeatedly in a loop, (2) passing tensors with different shapes, (3) passing Python objects instead of tensors. For (1), please define your @tf.function outside of the loop. For (2), @tf.function has reduce_retracing=True option that can avoid unnecessary retracing. For (3), please refer to https://www.tensorflow.org/guide/function#controlling_retracing and https://www.tensorflow.org/api_docs/python/tf/function for  more details.\n",
      "1/1 [==============================] - 0s 162ms/step - loss: 1.1895 - accuracy: 0.3333\n",
      "Test accuracy: 0.3333333432674408\n"
     ]
    }
   ],
   "source": [
    "# Evaluate the model\n",
    "test_loss, test_acc = custom_model.evaluate(X_test, y_test)\n",
    "print('Test accuracy:', test_acc)"
   ]
  },
  {
   "cell_type": "markdown",
   "id": "fdc259f1-a8a0-478b-bd9b-d12c06984bf7",
   "metadata": {},
   "source": [
    "\n",
    "Now we get negative result, model accuracy is reduced so we keep this \"hidden_layer2 = Dense(units=30,\" as same.\n",
    "\n",
    "Now we change the batch size as \"15\" and observe the changes\n"
   ]
  },
  {
   "cell_type": "code",
   "execution_count": 103,
   "id": "a3d4f7d7-724f-40db-beb9-59591d5eae8a",
   "metadata": {},
   "outputs": [],
   "source": [
    "import pandas as pd\n",
    "import numpy as np\n",
    "from sklearn.model_selection import train_test_split\n",
    "from keras.models import Sequential\n",
    "from keras.layers import Dense\n",
    "from keras.utils import to_categorical\n",
    "from sklearn.preprocessing import OneHotEncoder\n",
    "from sklearn.preprocessing import LabelEncoder"
   ]
  },
  {
   "cell_type": "code",
   "execution_count": 104,
   "id": "936bb5eb-686f-476c-9ffd-0dc8193aa200",
   "metadata": {},
   "outputs": [],
   "source": [
    "# Load data from CSV file\n",
    "file_path = r'C:\\Users\\spthe\\OneDrive\\Desktop\\TreeDataSet.csv'  # Update with the correct file path\n",
    "data = pd.read_csv(file_path)"
   ]
  },
  {
   "cell_type": "code",
   "execution_count": 105,
   "id": "5054a5a1-bcb3-49ee-9fe8-4f303f19f2c9",
   "metadata": {},
   "outputs": [],
   "source": [
    "# Adjust column names\n",
    "data.columns = ['TreeSpecies', 'Ratio', 'Angle']"
   ]
  },
  {
   "cell_type": "code",
   "execution_count": 106,
   "id": "88b69181-71a3-4c83-a303-980e5391d97f",
   "metadata": {},
   "outputs": [
    {
     "name": "stdout",
     "output_type": "stream",
     "text": [
      "Data types in features (X):\n",
      "Ratio    float64\n",
      "Angle      int64\n",
      "dtype: object\n",
      "Data type in labels (y):\n",
      "object\n"
     ]
    }
   ],
   "source": [
    "# Check for data types in features and labels (for debugging)\n",
    "print(\"Data types in features (X):\")\n",
    "print(data[[ 'Ratio', 'Angle']].dtypes)\n",
    "print(\"Data type in labels (y):\")\n",
    "print(data['TreeSpecies'].dtype)"
   ]
  },
  {
   "cell_type": "code",
   "execution_count": 107,
   "id": "f761e278-1e96-4a1d-b2bf-587b81248054",
   "metadata": {},
   "outputs": [],
   "source": [
    "# Prepare features and labels\n",
    "# Select features excluding column names\n",
    "X = data[['Ratio', 'Angle']]"
   ]
  },
  {
   "cell_type": "code",
   "execution_count": 108,
   "id": "cc3e3805-2b90-4b6c-a8fd-402905fdd0f4",
   "metadata": {},
   "outputs": [],
   "source": [
    "# Attempt to convert features to numerics (assuming numerical data)\n",
    "X = X.apply(pd.to_numeric, errors='coerce').values"
   ]
  },
  {
   "cell_type": "code",
   "execution_count": 109,
   "id": "9a318255-f81b-4608-9d97-a1a435dbdce8",
   "metadata": {},
   "outputs": [],
   "source": [
    "# Encode labels into integers (assuming categorical labels)\n",
    "label_encoder = LabelEncoder()\n",
    "y = label_encoder.fit_transform(data['TreeSpecies'].values)"
   ]
  },
  {
   "cell_type": "code",
   "execution_count": 110,
   "id": "eab20dc6-5aae-4367-8d55-a7729dbd8143",
   "metadata": {},
   "outputs": [
    {
     "name": "stdout",
     "output_type": "stream",
     "text": [
      "Number of unique classes after label encoding: 3\n"
     ]
    }
   ],
   "source": [
    "# Check the number of unique classes after label encoding (for debugging)\n",
    "print(\"Number of unique classes after label encoding:\", len(label_encoder.classes_))"
   ]
  },
  {
   "cell_type": "code",
   "execution_count": 111,
   "id": "f6894944-48e8-4a84-bdbd-6f75d182748a",
   "metadata": {},
   "outputs": [],
   "source": [
    "# Convert labels to categorical (one-hot encoding)\n",
    "encoder = OneHotEncoder(sparse=False)\n",
    "y = encoder.fit_transform(y.reshape(-1, 1))  # Reshape for compatibility"
   ]
  },
  {
   "cell_type": "code",
   "execution_count": 112,
   "id": "1b6b1f82-a960-400a-8393-e6472fa5f698",
   "metadata": {},
   "outputs": [
    {
     "name": "stdout",
     "output_type": "stream",
     "text": [
      "Shape of encoded labels (y): (90, 3)\n"
     ]
    }
   ],
   "source": [
    "# Check the shape of the encoded labels (for debugging)\n",
    "print(\"Shape of encoded labels (y):\", y.shape)"
   ]
  },
  {
   "cell_type": "code",
   "execution_count": 113,
   "id": "bf5c3ecd-f022-4d6d-bcb5-0cc22bb24305",
   "metadata": {},
   "outputs": [],
   "source": [
    "# Split data into training and testing sets\n",
    "X_train, X_test, y_train, y_test = train_test_split(X, y, test_size=0.2, random_state=3)"
   ]
  },
  {
   "cell_type": "code",
   "execution_count": 114,
   "id": "011fefa0-d0b3-44bb-af6f-13cc7f59b4dc",
   "metadata": {},
   "outputs": [
    {
     "name": "stdout",
     "output_type": "stream",
     "text": [
      "Shape of training features (X_train): (72, 2)\n"
     ]
    }
   ],
   "source": [
    "# Print the shape of training features (for debugging)\n",
    "print(\"Shape of training features (X_train):\", X_train.shape)"
   ]
  },
  {
   "cell_type": "code",
   "execution_count": 115,
   "id": "eb4c4032-1489-48bb-ac63-d4c7bce8ee3c",
   "metadata": {},
   "outputs": [],
   "source": [
    "from keras.models import Model\n",
    "from keras.layers import Input, Dense\n",
    "\n",
    "# Define the input layer with shape (2,)\n",
    "input_layer = Input(shape=(2,))\n",
    "\n",
    "# Define the layers of the model\n",
    "hidden_layer1 = Dense(units=90, activation='relu')(input_layer) # First hidden layer with 30 units and ReLU activation\n",
    "hidden_layer2 = Dense(units=30, activation='relu')(hidden_layer1) # Second hidden layer with 30 units and ReLU activation\n",
    "output_layer = Dense(units=3, activation='softmax')(hidden_layer2) # Output layer with 5 units and softmax activation\n",
    "\n",
    "# Define the model\n",
    "custom_model = Model(inputs=input_layer, outputs=output_layer) # Creating a model with specified input and output layers"
   ]
  },
  {
   "cell_type": "code",
   "execution_count": 116,
   "id": "f07f5b15-e32a-4b65-92fb-1d73aee8c331",
   "metadata": {},
   "outputs": [],
   "source": [
    "# Compile the model\n",
    "custom_model.compile(optimizer='rmsprop',\n",
    "                     loss='categorical_crossentropy',\n",
    "                     metrics=['accuracy'])"
   ]
  },
  {
   "cell_type": "code",
   "execution_count": 117,
   "id": "822f4fa5-fbf6-45f0-8458-5baa800ff8e0",
   "metadata": {},
   "outputs": [
    {
     "name": "stdout",
     "output_type": "stream",
     "text": [
      "Epoch 1/5\n",
      "5/5 [==============================] - 1s 6ms/step - loss: 2.9931 - accuracy: 0.2917\n",
      "Epoch 2/5\n",
      "5/5 [==============================] - 0s 3ms/step - loss: 0.9704 - accuracy: 0.5833\n",
      "Epoch 3/5\n",
      "5/5 [==============================] - 0s 3ms/step - loss: 0.8642 - accuracy: 0.6944\n",
      "Epoch 4/5\n",
      "5/5 [==============================] - 0s 1ms/step - loss: 0.9421 - accuracy: 0.5278\n",
      "Epoch 5/5\n",
      "5/5 [==============================] - 0s 4ms/step - loss: 0.8098 - accuracy: 0.6389\n"
     ]
    },
    {
     "data": {
      "text/plain": [
       "<keras.callbacks.History at 0x222d899c040>"
      ]
     },
     "execution_count": 117,
     "metadata": {},
     "output_type": "execute_result"
    }
   ],
   "source": [
    "# Train the model with the reshaped input data\n",
    "custom_model.fit(X_train, y_train, epochs=5, batch_size=15)"
   ]
  },
  {
   "cell_type": "code",
   "execution_count": 118,
   "id": "51eb54d6-b149-4432-abc5-60623fac5b80",
   "metadata": {},
   "outputs": [
    {
     "name": "stdout",
     "output_type": "stream",
     "text": [
      "1/1 [==============================] - 0s 78ms/step\n"
     ]
    }
   ],
   "source": [
    "# Make predictions on the testing set\n",
    "y_pred = custom_model.predict(X_test)\n",
    "\n",
    "# Convert one-hot encoded predictions to class labels (optional)\n",
    "y_pred_classes = np.argmax(y_pred, axis=1)"
   ]
  },
  {
   "cell_type": "code",
   "execution_count": 119,
   "id": "93283ad8-51e6-42f5-8a74-3ef25fa6a001",
   "metadata": {},
   "outputs": [
    {
     "name": "stdout",
     "output_type": "stream",
     "text": [
      "1/1 [==============================] - 0s 137ms/step - loss: 2.3288 - accuracy: 0.3889\n",
      "Test accuracy: 0.3888888955116272\n"
     ]
    }
   ],
   "source": [
    "# Evaluate the model\n",
    "test_loss, test_acc = custom_model.evaluate(X_test, y_test)\n",
    "print('Test accuracy:', test_acc)"
   ]
  },
  {
   "cell_type": "markdown",
   "id": "a4bb8868-7659-49f7-b5dc-981c430d01ef",
   "metadata": {},
   "source": [
    "\n",
    "Now we get the positive result model accuracy was increased but not look like same.\n",
    "\n",
    "Now we increase the batch size as \"60\" and observe the changes\n"
   ]
  },
  {
   "cell_type": "code",
   "execution_count": 120,
   "id": "96815366-51e7-48da-9c9a-9c3690246e4b",
   "metadata": {},
   "outputs": [],
   "source": [
    "import pandas as pd\n",
    "import numpy as np\n",
    "from sklearn.model_selection import train_test_split\n",
    "from keras.models import Sequential\n",
    "from keras.layers import Dense\n",
    "from keras.utils import to_categorical\n",
    "from sklearn.preprocessing import OneHotEncoder\n",
    "from sklearn.preprocessing import LabelEncoder"
   ]
  },
  {
   "cell_type": "code",
   "execution_count": 121,
   "id": "9fba0d6d-b60a-4347-a1c1-dbfb156bbe2a",
   "metadata": {},
   "outputs": [],
   "source": [
    "# Load data from CSV file\n",
    "file_path = r'C:\\Users\\spthe\\OneDrive\\Desktop\\TreeDataSet.csv'  # Update with the correct file path\n",
    "data = pd.read_csv(file_path)"
   ]
  },
  {
   "cell_type": "code",
   "execution_count": 122,
   "id": "d8e97006-1a89-4733-ab09-f8e35e63e32b",
   "metadata": {},
   "outputs": [],
   "source": [
    "# Adjust column names\n",
    "data.columns = ['TreeSpecies', 'Ratio', 'Angle']"
   ]
  },
  {
   "cell_type": "code",
   "execution_count": 123,
   "id": "2fdfb2b9-e685-4212-9634-8a5c56e25a55",
   "metadata": {},
   "outputs": [
    {
     "name": "stdout",
     "output_type": "stream",
     "text": [
      "Data types in features (X):\n",
      "Ratio    float64\n",
      "Angle      int64\n",
      "dtype: object\n",
      "Data type in labels (y):\n",
      "object\n"
     ]
    }
   ],
   "source": [
    "# Check for data types in features and labels (for debugging)\n",
    "print(\"Data types in features (X):\")\n",
    "print(data[[ 'Ratio', 'Angle']].dtypes)\n",
    "print(\"Data type in labels (y):\")\n",
    "print(data['TreeSpecies'].dtype)"
   ]
  },
  {
   "cell_type": "code",
   "execution_count": 124,
   "id": "92435f3f-2ffe-4ed9-9232-d6064d570a2a",
   "metadata": {},
   "outputs": [],
   "source": [
    "# Prepare features and labels\n",
    "# Select features excluding column names\n",
    "X = data[['Ratio', 'Angle']]"
   ]
  },
  {
   "cell_type": "code",
   "execution_count": 125,
   "id": "0109d361-4bd7-42bf-9f82-5c0dcf08a782",
   "metadata": {},
   "outputs": [],
   "source": [
    "# Attempt to convert features to numerics (assuming numerical data)\n",
    "X = X.apply(pd.to_numeric, errors='coerce').values"
   ]
  },
  {
   "cell_type": "code",
   "execution_count": 126,
   "id": "fcdb2c26-b555-4f9a-92ae-68014729e305",
   "metadata": {},
   "outputs": [],
   "source": [
    "# Encode labels into integers (assuming categorical labels)\n",
    "label_encoder = LabelEncoder()\n",
    "y = label_encoder.fit_transform(data['TreeSpecies'].values)"
   ]
  },
  {
   "cell_type": "code",
   "execution_count": 127,
   "id": "05ae7a63-5473-46cb-8949-08a00453bb3c",
   "metadata": {},
   "outputs": [
    {
     "name": "stdout",
     "output_type": "stream",
     "text": [
      "Number of unique classes after label encoding: 3\n"
     ]
    }
   ],
   "source": [
    "# Check the number of unique classes after label encoding (for debugging)\n",
    "print(\"Number of unique classes after label encoding:\", len(label_encoder.classes_))"
   ]
  },
  {
   "cell_type": "code",
   "execution_count": 128,
   "id": "74f81571-c2dc-4888-921d-d8a49e751514",
   "metadata": {},
   "outputs": [],
   "source": [
    "# Convert labels to categorical (one-hot encoding)\n",
    "encoder = OneHotEncoder(sparse=False)\n",
    "y = encoder.fit_transform(y.reshape(-1, 1))  # Reshape for compatibility"
   ]
  },
  {
   "cell_type": "code",
   "execution_count": 129,
   "id": "2629b35e-47cb-49cf-9a38-734ff1419ab7",
   "metadata": {},
   "outputs": [
    {
     "name": "stdout",
     "output_type": "stream",
     "text": [
      "Shape of encoded labels (y): (90, 3)\n"
     ]
    }
   ],
   "source": [
    "# Check the shape of the encoded labels (for debugging)\n",
    "print(\"Shape of encoded labels (y):\", y.shape)"
   ]
  },
  {
   "cell_type": "code",
   "execution_count": 130,
   "id": "ecbb0b2f-a625-4963-ba74-ae6ea935f600",
   "metadata": {},
   "outputs": [],
   "source": [
    "# Split data into training and testing sets\n",
    "X_train, X_test, y_train, y_test = train_test_split(X, y, test_size=0.2, random_state=3)"
   ]
  },
  {
   "cell_type": "code",
   "execution_count": 131,
   "id": "51397ada-2fdd-4ed9-ba4e-8c24121f27ee",
   "metadata": {},
   "outputs": [
    {
     "name": "stdout",
     "output_type": "stream",
     "text": [
      "Shape of training features (X_train): (72, 2)\n"
     ]
    }
   ],
   "source": [
    "# Print the shape of training features (for debugging)\n",
    "print(\"Shape of training features (X_train):\", X_train.shape)"
   ]
  },
  {
   "cell_type": "code",
   "execution_count": 132,
   "id": "aa856659-f781-408d-8b99-a29db5493812",
   "metadata": {},
   "outputs": [],
   "source": [
    "from keras.models import Model\n",
    "from keras.layers import Input, Dense\n",
    "\n",
    "# Define the input layer with shape (2,)\n",
    "input_layer = Input(shape=(2,))\n",
    "\n",
    "# Define the layers of the model\n",
    "hidden_layer1 = Dense(units=90, activation='relu')(input_layer) # First hidden layer with 30 units and ReLU activation\n",
    "hidden_layer2 = Dense(units=30, activation='relu')(hidden_layer1) # Second hidden layer with 30 units and ReLU activation\n",
    "output_layer = Dense(units=3, activation='softmax')(hidden_layer2) # Output layer with 5 units and softmax activation\n",
    "\n",
    "# Define the model\n",
    "custom_model = Model(inputs=input_layer, outputs=output_layer) # Creating a model with specified input and output layers"
   ]
  },
  {
   "cell_type": "code",
   "execution_count": 133,
   "id": "96d6bb4e-3353-4df6-8d86-f00f1a9f94af",
   "metadata": {},
   "outputs": [],
   "source": [
    "# Compile the model\n",
    "custom_model.compile(optimizer='rmsprop',\n",
    "                     loss='categorical_crossentropy',\n",
    "                     metrics=['accuracy'])"
   ]
  },
  {
   "cell_type": "code",
   "execution_count": 134,
   "id": "75575b55-dd4e-48da-ba87-a688a6f2bd1c",
   "metadata": {},
   "outputs": [
    {
     "name": "stdout",
     "output_type": "stream",
     "text": [
      "Epoch 1/5\n",
      "2/2 [==============================] - 0s 0s/step - loss: 5.2189 - accuracy: 0.3194\n",
      "Epoch 2/5\n",
      "2/2 [==============================] - 0s 0s/step - loss: 3.4518 - accuracy: 0.3194\n",
      "Epoch 3/5\n",
      "2/2 [==============================] - 0s 5ms/step - loss: 2.7618 - accuracy: 0.2917\n",
      "Epoch 4/5\n",
      "2/2 [==============================] - 0s 5ms/step - loss: 2.4129 - accuracy: 0.2778\n",
      "Epoch 5/5\n",
      "2/2 [==============================] - 0s 3ms/step - loss: 1.9693 - accuracy: 0.3750\n"
     ]
    },
    {
     "data": {
      "text/plain": [
       "<keras.callbacks.History at 0x222d9d87ca0>"
      ]
     },
     "execution_count": 134,
     "metadata": {},
     "output_type": "execute_result"
    }
   ],
   "source": [
    "# Train the model with the reshaped input data\n",
    "custom_model.fit(X_train, y_train, epochs=5, batch_size=60)"
   ]
  },
  {
   "cell_type": "code",
   "execution_count": 135,
   "id": "96ee2acd-fc12-49c5-9a0f-0ad1f7376ed3",
   "metadata": {},
   "outputs": [
    {
     "name": "stdout",
     "output_type": "stream",
     "text": [
      "1/1 [==============================] - 0s 70ms/step\n"
     ]
    }
   ],
   "source": [
    "# Make predictions on the testing set\n",
    "y_pred = custom_model.predict(X_test)\n",
    "\n",
    "# Convert one-hot encoded predictions to class labels (optional)\n",
    "y_pred_classes = np.argmax(y_pred, axis=1)"
   ]
  },
  {
   "cell_type": "code",
   "execution_count": 136,
   "id": "3d424cc8-4932-421e-8961-2b53cc873516",
   "metadata": {},
   "outputs": [
    {
     "name": "stdout",
     "output_type": "stream",
     "text": [
      "1/1 [==============================] - 0s 162ms/step - loss: 1.4561 - accuracy: 0.2222\n",
      "Test accuracy: 0.2222222238779068\n"
     ]
    }
   ],
   "source": [
    "# Evaluate the model\n",
    "test_loss, test_acc = custom_model.evaluate(X_test, y_test)\n",
    "print('Test accuracy:', test_acc)"
   ]
  },
  {
   "cell_type": "markdown",
   "id": "fd16392d-7217-4afb-b9b8-4654206bcaf7",
   "metadata": {},
   "source": [
    "\n",
    "Now we get Negative result and we get very low accuracy so we keep the batch size as 15.\n",
    "\n",
    "Now we change the epochs as 3 and observe the changes.\n"
   ]
  },
  {
   "cell_type": "code",
   "execution_count": 137,
   "id": "01818a9e-1c98-4227-9745-d60acb9017f8",
   "metadata": {},
   "outputs": [],
   "source": [
    "import pandas as pd\n",
    "import numpy as np\n",
    "from sklearn.model_selection import train_test_split\n",
    "from keras.models import Sequential\n",
    "from keras.layers import Dense\n",
    "from keras.utils import to_categorical\n",
    "from sklearn.preprocessing import OneHotEncoder\n",
    "from sklearn.preprocessing import LabelEncoder"
   ]
  },
  {
   "cell_type": "code",
   "execution_count": 138,
   "id": "c267435f-d52d-4a15-b26f-912698fc5e29",
   "metadata": {},
   "outputs": [],
   "source": [
    "# Load data from CSV file\n",
    "file_path = r'C:\\Users\\spthe\\OneDrive\\Desktop\\TreeDataSet.csv'  # Update with the correct file path\n",
    "data = pd.read_csv(file_path)"
   ]
  },
  {
   "cell_type": "code",
   "execution_count": 139,
   "id": "19690c5c-12a0-4c9a-82fe-9d8a6ff03119",
   "metadata": {},
   "outputs": [],
   "source": [
    "# Adjust column names\n",
    "data.columns = ['TreeSpecies', 'Ratio', 'Angle']"
   ]
  },
  {
   "cell_type": "code",
   "execution_count": 140,
   "id": "841227e1-4837-4c2c-9235-5e39d8defb7e",
   "metadata": {},
   "outputs": [
    {
     "name": "stdout",
     "output_type": "stream",
     "text": [
      "Data types in features (X):\n",
      "Ratio    float64\n",
      "Angle      int64\n",
      "dtype: object\n",
      "Data type in labels (y):\n",
      "object\n"
     ]
    }
   ],
   "source": [
    "# Check for data types in features and labels (for debugging)\n",
    "print(\"Data types in features (X):\")\n",
    "print(data[[ 'Ratio', 'Angle']].dtypes)\n",
    "print(\"Data type in labels (y):\")\n",
    "print(data['TreeSpecies'].dtype)"
   ]
  },
  {
   "cell_type": "code",
   "execution_count": 141,
   "id": "68b4aa1c-1af6-446d-b903-73c27f80c355",
   "metadata": {},
   "outputs": [],
   "source": [
    "# Prepare features and labels\n",
    "# Select features excluding column names\n",
    "X = data[['Ratio', 'Angle']]"
   ]
  },
  {
   "cell_type": "code",
   "execution_count": 142,
   "id": "27c8ad85-8256-4580-a480-2f0db597649d",
   "metadata": {},
   "outputs": [],
   "source": [
    "# Attempt to convert features to numerics (assuming numerical data)\n",
    "X = X.apply(pd.to_numeric, errors='coerce').values"
   ]
  },
  {
   "cell_type": "code",
   "execution_count": 143,
   "id": "ff776933-032e-4b55-b073-ce53c94d4b9f",
   "metadata": {},
   "outputs": [],
   "source": [
    "# Encode labels into integers (assuming categorical labels)\n",
    "label_encoder = LabelEncoder()\n",
    "y = label_encoder.fit_transform(data['TreeSpecies'].values)"
   ]
  },
  {
   "cell_type": "code",
   "execution_count": 144,
   "id": "087d6bef-a8a0-4ae0-bd46-e2f968a14945",
   "metadata": {},
   "outputs": [
    {
     "name": "stdout",
     "output_type": "stream",
     "text": [
      "Number of unique classes after label encoding: 3\n"
     ]
    }
   ],
   "source": [
    "# Check the number of unique classes after label encoding (for debugging)\n",
    "print(\"Number of unique classes after label encoding:\", len(label_encoder.classes_))"
   ]
  },
  {
   "cell_type": "code",
   "execution_count": 145,
   "id": "ee68630c-b95d-41d4-8511-f1c213204f4d",
   "metadata": {},
   "outputs": [],
   "source": [
    "# Convert labels to categorical (one-hot encoding)\n",
    "encoder = OneHotEncoder(sparse=False)\n",
    "y = encoder.fit_transform(y.reshape(-1, 1))  # Reshape for compatibility"
   ]
  },
  {
   "cell_type": "code",
   "execution_count": 146,
   "id": "6d17cd79-139f-47fe-a3fb-f3cf65354162",
   "metadata": {},
   "outputs": [
    {
     "name": "stdout",
     "output_type": "stream",
     "text": [
      "Shape of encoded labels (y): (90, 3)\n"
     ]
    }
   ],
   "source": [
    "# Check the shape of the encoded labels (for debugging)\n",
    "print(\"Shape of encoded labels (y):\", y.shape)"
   ]
  },
  {
   "cell_type": "code",
   "execution_count": 147,
   "id": "f550b8f5-c0d5-4bec-8dfb-79381cd867e3",
   "metadata": {},
   "outputs": [],
   "source": [
    "# Split data into training and testing sets\n",
    "X_train, X_test, y_train, y_test = train_test_split(X, y, test_size=0.2, random_state=3)"
   ]
  },
  {
   "cell_type": "code",
   "execution_count": 148,
   "id": "cc29d11d-24bd-4d3e-8f95-b9a8a76ccd6a",
   "metadata": {},
   "outputs": [
    {
     "name": "stdout",
     "output_type": "stream",
     "text": [
      "Shape of training features (X_train): (72, 2)\n"
     ]
    }
   ],
   "source": [
    "# Print the shape of training features (for debugging)\n",
    "print(\"Shape of training features (X_train):\", X_train.shape)"
   ]
  },
  {
   "cell_type": "code",
   "execution_count": 149,
   "id": "de785c17-0315-4f3f-9808-ae7f41214ef9",
   "metadata": {},
   "outputs": [],
   "source": [
    "from keras.models import Model\n",
    "from keras.layers import Input, Dense\n",
    "\n",
    "# Define the input layer with shape (2,)\n",
    "input_layer = Input(shape=(2,))\n",
    "\n",
    "# Define the layers of the model\n",
    "hidden_layer1 = Dense(units=90, activation='relu')(input_layer) # First hidden layer with 30 units and ReLU activation\n",
    "hidden_layer2 = Dense(units=30, activation='relu')(hidden_layer1) # Second hidden layer with 30 units and ReLU activation\n",
    "output_layer = Dense(units=3, activation='softmax')(hidden_layer2) # Output layer with 5 units and softmax activation\n",
    "\n",
    "# Define the model\n",
    "custom_model = Model(inputs=input_layer, outputs=output_layer) # Creating a model with specified input and output layers"
   ]
  },
  {
   "cell_type": "code",
   "execution_count": 150,
   "id": "dec2ff77-b4fa-42d0-828f-81c86390753d",
   "metadata": {},
   "outputs": [],
   "source": [
    "# Compile the model\n",
    "custom_model.compile(optimizer='rmsprop',\n",
    "                     loss='categorical_crossentropy',\n",
    "                     metrics=['accuracy'])"
   ]
  },
  {
   "cell_type": "code",
   "execution_count": 151,
   "id": "cf077bab-d02f-42ff-a218-1bec715dc2c8",
   "metadata": {},
   "outputs": [
    {
     "name": "stdout",
     "output_type": "stream",
     "text": [
      "Epoch 1/3\n",
      "5/5 [==============================] - 0s 5ms/step - loss: 3.0535 - accuracy: 0.2917\n",
      "Epoch 2/3\n",
      "5/5 [==============================] - 0s 3ms/step - loss: 0.9234 - accuracy: 0.5694\n",
      "Epoch 3/3\n",
      "5/5 [==============================] - 0s 3ms/step - loss: 1.0450 - accuracy: 0.6389\n"
     ]
    },
    {
     "data": {
      "text/plain": [
       "<keras.callbacks.History at 0x222db155fa0>"
      ]
     },
     "execution_count": 151,
     "metadata": {},
     "output_type": "execute_result"
    }
   ],
   "source": [
    "# Train the model with the reshaped input data\n",
    "custom_model.fit(X_train, y_train, epochs=3, batch_size=15)"
   ]
  },
  {
   "cell_type": "code",
   "execution_count": 152,
   "id": "cd024b0c-ae30-4935-b404-94ed9f417cef",
   "metadata": {},
   "outputs": [
    {
     "name": "stdout",
     "output_type": "stream",
     "text": [
      "1/1 [==============================] - 0s 69ms/step\n"
     ]
    }
   ],
   "source": [
    "# Make predictions on the testing set\n",
    "y_pred = custom_model.predict(X_test)\n",
    "\n",
    "# Convert one-hot encoded predictions to class labels (optional)\n",
    "y_pred_classes = np.argmax(y_pred, axis=1)"
   ]
  },
  {
   "cell_type": "code",
   "execution_count": 153,
   "id": "fdf84543-34d9-48e8-a2ce-f8c5d129f0f0",
   "metadata": {},
   "outputs": [
    {
     "name": "stdout",
     "output_type": "stream",
     "text": [
      "1/1 [==============================] - 0s 164ms/step - loss: 1.1663 - accuracy: 0.5000\n",
      "Test accuracy: 0.5\n"
     ]
    }
   ],
   "source": [
    "# Evaluate the model\n",
    "test_loss, test_acc = custom_model.evaluate(X_test, y_test)\n",
    "print('Test accuracy:', test_acc)"
   ]
  },
  {
   "cell_type": "markdown",
   "id": "dc685808-ddce-4711-81b3-37c7b92482de",
   "metadata": {},
   "source": [
    "\n",
    "Now we get the Positive result. the model accuracy was increased.\n",
    "\n",
    "Now we change the epochs as 10 and observe the changes.\n"
   ]
  },
  {
   "cell_type": "code",
   "execution_count": 154,
   "id": "7f1fecff-9908-42ce-b83d-46893c493a59",
   "metadata": {},
   "outputs": [],
   "source": [
    "import pandas as pd\n",
    "import numpy as np\n",
    "from sklearn.model_selection import train_test_split\n",
    "from keras.models import Sequential\n",
    "from keras.layers import Dense\n",
    "from keras.utils import to_categorical\n",
    "from sklearn.preprocessing import OneHotEncoder\n",
    "from sklearn.preprocessing import LabelEncoder"
   ]
  },
  {
   "cell_type": "code",
   "execution_count": 155,
   "id": "d448299f-724f-4eb1-8690-35d4bf2580b4",
   "metadata": {},
   "outputs": [],
   "source": [
    "# Load data from CSV file\n",
    "file_path = r'C:\\Users\\spthe\\OneDrive\\Desktop\\TreeDataSet.csv'  # Update with the correct file path\n",
    "data = pd.read_csv(file_path)"
   ]
  },
  {
   "cell_type": "code",
   "execution_count": 156,
   "id": "be5dd8fa-c096-484b-8118-67c86ea3baff",
   "metadata": {},
   "outputs": [],
   "source": [
    "# Adjust column names\n",
    "data.columns = ['TreeSpecies', 'Ratio', 'Angle']"
   ]
  },
  {
   "cell_type": "code",
   "execution_count": 157,
   "id": "195055b4-ff70-4ecb-b99c-8118d65e03b2",
   "metadata": {},
   "outputs": [
    {
     "name": "stdout",
     "output_type": "stream",
     "text": [
      "Data types in features (X):\n",
      "Ratio    float64\n",
      "Angle      int64\n",
      "dtype: object\n",
      "Data type in labels (y):\n",
      "object\n"
     ]
    }
   ],
   "source": [
    "# Check for data types in features and labels (for debugging)\n",
    "print(\"Data types in features (X):\")\n",
    "print(data[[ 'Ratio', 'Angle']].dtypes)\n",
    "print(\"Data type in labels (y):\")\n",
    "print(data['TreeSpecies'].dtype)"
   ]
  },
  {
   "cell_type": "code",
   "execution_count": 158,
   "id": "b1cb9535-1483-4fae-8e27-4f51f785a47f",
   "metadata": {},
   "outputs": [],
   "source": [
    "# Prepare features and labels\n",
    "# Select features excluding column names\n",
    "X = data[['Ratio', 'Angle']]"
   ]
  },
  {
   "cell_type": "code",
   "execution_count": 159,
   "id": "24882e86-7908-4071-b6c2-e937bb0a5393",
   "metadata": {},
   "outputs": [],
   "source": [
    "# Attempt to convert features to numerics (assuming numerical data)\n",
    "X = X.apply(pd.to_numeric, errors='coerce').values"
   ]
  },
  {
   "cell_type": "code",
   "execution_count": 160,
   "id": "18b586fb-a1e2-47f3-a62d-328ac224ebb0",
   "metadata": {},
   "outputs": [],
   "source": [
    "# Encode labels into integers (assuming categorical labels)\n",
    "label_encoder = LabelEncoder()\n",
    "y = label_encoder.fit_transform(data['TreeSpecies'].values)"
   ]
  },
  {
   "cell_type": "code",
   "execution_count": 161,
   "id": "fb7731ba-3923-4e6e-959d-4b313b99ed9b",
   "metadata": {},
   "outputs": [
    {
     "name": "stdout",
     "output_type": "stream",
     "text": [
      "Number of unique classes after label encoding: 3\n"
     ]
    }
   ],
   "source": [
    "# Check the number of unique classes after label encoding (for debugging)\n",
    "print(\"Number of unique classes after label encoding:\", len(label_encoder.classes_))"
   ]
  },
  {
   "cell_type": "code",
   "execution_count": 162,
   "id": "c1c4a3f3-e911-4770-830f-9bb5b6efa07b",
   "metadata": {},
   "outputs": [],
   "source": [
    "# Convert labels to categorical (one-hot encoding)\n",
    "encoder = OneHotEncoder(sparse=False)\n",
    "y = encoder.fit_transform(y.reshape(-1, 1))  # Reshape for compatibility"
   ]
  },
  {
   "cell_type": "code",
   "execution_count": 163,
   "id": "ec0b8576-475d-4b84-8362-24aa2af048d9",
   "metadata": {},
   "outputs": [
    {
     "name": "stdout",
     "output_type": "stream",
     "text": [
      "Shape of encoded labels (y): (90, 3)\n"
     ]
    }
   ],
   "source": [
    "# Check the shape of the encoded labels (for debugging)\n",
    "print(\"Shape of encoded labels (y):\", y.shape)"
   ]
  },
  {
   "cell_type": "code",
   "execution_count": 164,
   "id": "55ee0609-f127-4da7-a6eb-6ee51b6622c8",
   "metadata": {},
   "outputs": [],
   "source": [
    "# Split data into training and testing sets\n",
    "X_train, X_test, y_train, y_test = train_test_split(X, y, test_size=0.2, random_state=3)"
   ]
  },
  {
   "cell_type": "code",
   "execution_count": 165,
   "id": "ab220427-c83d-4df2-a5fa-923d6d210674",
   "metadata": {},
   "outputs": [
    {
     "name": "stdout",
     "output_type": "stream",
     "text": [
      "Shape of training features (X_train): (72, 2)\n"
     ]
    }
   ],
   "source": [
    "# Print the shape of training features (for debugging)\n",
    "print(\"Shape of training features (X_train):\", X_train.shape)"
   ]
  },
  {
   "cell_type": "code",
   "execution_count": 166,
   "id": "a21fb5a3-7f15-49bc-8a3d-6613dfc4eb2a",
   "metadata": {},
   "outputs": [],
   "source": [
    "from keras.models import Model\n",
    "from keras.layers import Input, Dense\n",
    "\n",
    "# Define the input layer with shape (2,)\n",
    "input_layer = Input(shape=(2,))\n",
    "\n",
    "# Define the layers of the model\n",
    "hidden_layer1 = Dense(units=90, activation='relu')(input_layer) # First hidden layer with 30 units and ReLU activation\n",
    "hidden_layer2 = Dense(units=30, activation='relu')(hidden_layer1) # Second hidden layer with 30 units and ReLU activation\n",
    "output_layer = Dense(units=3, activation='softmax')(hidden_layer2) # Output layer with 5 units and softmax activation\n",
    "\n",
    "# Define the model\n",
    "custom_model = Model(inputs=input_layer, outputs=output_layer) # Creating a model with specified input and output layers"
   ]
  },
  {
   "cell_type": "code",
   "execution_count": 167,
   "id": "70304214-99c5-4809-9f80-8342ff8f8bd7",
   "metadata": {},
   "outputs": [],
   "source": [
    "# Compile the model\n",
    "custom_model.compile(optimizer='rmsprop',\n",
    "                     loss='categorical_crossentropy',\n",
    "                     metrics=['accuracy'])"
   ]
  },
  {
   "cell_type": "code",
   "execution_count": 169,
   "id": "f0be8c22-10c8-4c5e-9d8f-685aaa49ae0a",
   "metadata": {},
   "outputs": [
    {
     "name": "stdout",
     "output_type": "stream",
     "text": [
      "Epoch 1/10\n",
      "5/5 [==============================] - 0s 2ms/step - loss: 1.0193 - accuracy: 0.3472\n",
      "Epoch 2/10\n",
      "5/5 [==============================] - 0s 2ms/step - loss: 1.3673 - accuracy: 0.3889\n",
      "Epoch 3/10\n",
      "5/5 [==============================] - 0s 3ms/step - loss: 1.0366 - accuracy: 0.6250\n",
      "Epoch 4/10\n",
      "5/5 [==============================] - 0s 2ms/step - loss: 1.2657 - accuracy: 0.4028\n",
      "Epoch 5/10\n",
      "5/5 [==============================] - 0s 2ms/step - loss: 1.0097 - accuracy: 0.4861\n",
      "Epoch 6/10\n",
      "5/5 [==============================] - 0s 2ms/step - loss: 1.0122 - accuracy: 0.4861\n",
      "Epoch 7/10\n",
      "5/5 [==============================] - 0s 2ms/step - loss: 0.9698 - accuracy: 0.6944\n",
      "Epoch 8/10\n",
      "5/5 [==============================] - 0s 2ms/step - loss: 0.8477 - accuracy: 0.6944\n",
      "Epoch 9/10\n",
      "5/5 [==============================] - 0s 2ms/step - loss: 1.0494 - accuracy: 0.5556\n",
      "Epoch 10/10\n",
      "5/5 [==============================] - 0s 2ms/step - loss: 0.8711 - accuracy: 0.6528\n"
     ]
    },
    {
     "data": {
      "text/plain": [
       "<keras.callbacks.History at 0x222d77a8040>"
      ]
     },
     "execution_count": 169,
     "metadata": {},
     "output_type": "execute_result"
    }
   ],
   "source": [
    "# Train the model with the reshaped input data\n",
    "custom_model.fit(X_train, y_train, epochs=10, batch_size=15)"
   ]
  },
  {
   "cell_type": "code",
   "execution_count": 170,
   "id": "6d92abc0-3c55-4e9c-b969-1be198aba246",
   "metadata": {},
   "outputs": [
    {
     "name": "stdout",
     "output_type": "stream",
     "text": [
      "1/1 [==============================] - 0s 87ms/step\n"
     ]
    }
   ],
   "source": [
    "# Make predictions on the testing set\n",
    "y_pred = custom_model.predict(X_test)\n",
    "\n",
    "# Convert one-hot encoded predictions to class labels (optional)\n",
    "y_pred_classes = np.argmax(y_pred, axis=1)"
   ]
  },
  {
   "cell_type": "code",
   "execution_count": 171,
   "id": "6587a0f3-3885-4a13-b4d2-e06ede5804af",
   "metadata": {},
   "outputs": [
    {
     "name": "stdout",
     "output_type": "stream",
     "text": [
      "1/1 [==============================] - 0s 144ms/step - loss: 0.9992 - accuracy: 0.6667\n",
      "Test accuracy: 0.6666666865348816\n"
     ]
    }
   ],
   "source": [
    "# Evaluate the model\n",
    "test_loss, test_acc = custom_model.evaluate(X_test, y_test)\n",
    "print('Test accuracy:', test_acc)"
   ]
  },
  {
   "cell_type": "markdown",
   "id": "576c9293-7a4f-4271-a0d5-69a4b03e23c0",
   "metadata": {},
   "source": [
    "\n",
    "Now we get the Positive result and the model accuracy was \"0.66\".\n",
    "\n",
    "From the above testings we get the Maximum test accuracy as \"0.66\" and Minimum test accuracy as \"0.22\""
   ]
  },
  {
   "cell_type": "markdown",
   "id": "40d2ee5f-f943-47b7-ac3c-9fbf19651c1b",
   "metadata": {},
   "source": [
    "Now we choose the final testing as Our model and continue our process"
   ]
  },
  {
   "cell_type": "code",
   "execution_count": 212,
   "id": "7b19db0e-add7-4752-b16a-a801c97527ec",
   "metadata": {},
   "outputs": [],
   "source": [
    "import pandas as pd\n",
    "import numpy as np\n",
    "from sklearn.model_selection import train_test_split\n",
    "from keras.models import Sequential\n",
    "from keras.layers import Dense\n",
    "from keras.utils import to_categorical\n",
    "from sklearn.preprocessing import OneHotEncoder\n",
    "from sklearn.preprocessing import LabelEncoder"
   ]
  },
  {
   "cell_type": "code",
   "execution_count": 213,
   "id": "e8c83bde-b72b-4e9a-b872-17b7350e0b48",
   "metadata": {},
   "outputs": [],
   "source": [
    "# Load data from CSV file\n",
    "file_path = r'C:\\Users\\spthe\\OneDrive\\Desktop\\TreeDataSet.csv'  # Update with the correct file path\n",
    "data = pd.read_csv(file_path)"
   ]
  },
  {
   "cell_type": "code",
   "execution_count": 214,
   "id": "70c831f3-bd1b-45c6-a924-94309e9bb8c7",
   "metadata": {},
   "outputs": [],
   "source": [
    "# Adjust column names\n",
    "data.columns = ['TreeSpecies', 'Ratio', 'Angle']"
   ]
  },
  {
   "cell_type": "code",
   "execution_count": 215,
   "id": "f9486dc1-43a6-4343-b83c-dbaa3db26a42",
   "metadata": {},
   "outputs": [
    {
     "name": "stdout",
     "output_type": "stream",
     "text": [
      "Data types in features (X):\n",
      "Ratio    float64\n",
      "Angle      int64\n",
      "dtype: object\n",
      "Data type in labels (y):\n",
      "object\n"
     ]
    }
   ],
   "source": [
    "# Check for data types in features and labels (for debugging)\n",
    "print(\"Data types in features (X):\")\n",
    "print(data[[ 'Ratio', 'Angle']].dtypes)\n",
    "print(\"Data type in labels (y):\")\n",
    "print(data['TreeSpecies'].dtype)"
   ]
  },
  {
   "cell_type": "code",
   "execution_count": 216,
   "id": "a87c6c93-5e7c-414c-8ad1-680e00b61b20",
   "metadata": {},
   "outputs": [],
   "source": [
    "# Prepare features and labels\n",
    "# Select features excluding column names\n",
    "X = data[['Ratio', 'Angle']]"
   ]
  },
  {
   "cell_type": "code",
   "execution_count": 217,
   "id": "17647995-6d0c-4e9f-ba59-c2d11b1d8275",
   "metadata": {},
   "outputs": [],
   "source": [
    "# Attempt to convert features to numerics (assuming numerical data)\n",
    "X = X.apply(pd.to_numeric, errors='coerce').values"
   ]
  },
  {
   "cell_type": "code",
   "execution_count": 218,
   "id": "e28a6e7c-0953-4073-83ff-d0316e44ce24",
   "metadata": {},
   "outputs": [],
   "source": [
    "# Encode labels into integers (assuming categorical labels)\n",
    "label_encoder = LabelEncoder()\n",
    "y = label_encoder.fit_transform(data['TreeSpecies'].values)"
   ]
  },
  {
   "cell_type": "code",
   "execution_count": 219,
   "id": "a3c257dc-082f-40b2-bb19-fa1326b3e5d4",
   "metadata": {},
   "outputs": [
    {
     "name": "stdout",
     "output_type": "stream",
     "text": [
      "Number of unique classes after label encoding: 3\n"
     ]
    }
   ],
   "source": [
    "# Check the number of unique classes after label encoding (for debugging)\n",
    "print(\"Number of unique classes after label encoding:\", len(label_encoder.classes_))"
   ]
  },
  {
   "cell_type": "code",
   "execution_count": 220,
   "id": "a26dba2e-67f2-4083-9faf-23ee5388c6b6",
   "metadata": {},
   "outputs": [],
   "source": [
    "# Convert labels to categorical (one-hot encoding)\n",
    "encoder = OneHotEncoder(sparse=False)\n",
    "y = encoder.fit_transform(y.reshape(-1, 1))  # Reshape for compatibility"
   ]
  },
  {
   "cell_type": "code",
   "execution_count": 221,
   "id": "b12ff91f-c790-4e39-8d28-9bd9bd93fdb2",
   "metadata": {},
   "outputs": [
    {
     "name": "stdout",
     "output_type": "stream",
     "text": [
      "Shape of encoded labels (y): (90, 3)\n"
     ]
    }
   ],
   "source": [
    "# Check the shape of the encoded labels (for debugging)\n",
    "print(\"Shape of encoded labels (y):\", y.shape)"
   ]
  },
  {
   "cell_type": "code",
   "execution_count": 222,
   "id": "866c75f5-9ea7-4d57-bab1-b591b0b10408",
   "metadata": {},
   "outputs": [],
   "source": [
    "# Split data into training and testing sets\n",
    "X_train, X_test, y_train, y_test = train_test_split(X, y, test_size=0.2, random_state=3)"
   ]
  },
  {
   "cell_type": "code",
   "execution_count": 223,
   "id": "ea8fbe97-9a5a-4545-a990-936a0922aba3",
   "metadata": {},
   "outputs": [
    {
     "name": "stdout",
     "output_type": "stream",
     "text": [
      "Shape of training features (X_train): (72, 2)\n"
     ]
    }
   ],
   "source": [
    "# Print the shape of training features (for debugging)\n",
    "print(\"Shape of training features (X_train):\", X_train.shape)"
   ]
  },
  {
   "cell_type": "code",
   "execution_count": 224,
   "id": "878a2c1a-2fc2-4ba0-9407-5374f84f9f84",
   "metadata": {},
   "outputs": [],
   "source": [
    "from keras.models import Model\n",
    "from keras.layers import Input, Dense\n",
    "\n",
    "# Define the input layer with shape (2,)\n",
    "input_layer = Input(shape=(2,))\n",
    "\n",
    "# Define the layers of the model\n",
    "hidden_layer1 = Dense(units=90, activation='relu')(input_layer) # First hidden layer with 30 units and ReLU activation\n",
    "hidden_layer2 = Dense(units=30, activation='relu')(hidden_layer1) # Second hidden layer with 30 units and ReLU activation\n",
    "output_layer = Dense(units=3, activation='softmax')(hidden_layer2) # Output layer with 5 units and softmax activation\n",
    "\n",
    "# Define the model\n",
    "custom_model = Model(inputs=input_layer, outputs=output_layer) # Creating a model with specified input and output layers"
   ]
  },
  {
   "cell_type": "code",
   "execution_count": 225,
   "id": "d2336269-8bda-4da6-8539-52301c0c75b7",
   "metadata": {},
   "outputs": [],
   "source": [
    "# Compile the model\n",
    "custom_model.compile(optimizer='rmsprop',\n",
    "                     loss='categorical_crossentropy',\n",
    "                     metrics=['accuracy'])"
   ]
  },
  {
   "cell_type": "code",
   "execution_count": 226,
   "id": "c624bf1d-635c-4a6d-b902-3364445c8bd3",
   "metadata": {},
   "outputs": [
    {
     "name": "stdout",
     "output_type": "stream",
     "text": [
      "Epoch 1/10\n",
      "5/5 [==============================] - 2s 8ms/step - loss: 3.8618 - accuracy: 0.3056\n",
      "Epoch 2/10\n",
      "5/5 [==============================] - 0s 4ms/step - loss: 1.1724 - accuracy: 0.3333\n",
      "Epoch 3/10\n",
      "5/5 [==============================] - 0s 5ms/step - loss: 1.1733 - accuracy: 0.2778\n",
      "Epoch 4/10\n",
      "5/5 [==============================] - 0s 5ms/step - loss: 1.0512 - accuracy: 0.3056\n",
      "Epoch 5/10\n",
      "5/5 [==============================] - 0s 4ms/step - loss: 1.0486 - accuracy: 0.2778\n",
      "Epoch 6/10\n",
      "5/5 [==============================] - 0s 6ms/step - loss: 1.0617 - accuracy: 0.3056\n",
      "Epoch 7/10\n",
      "5/5 [==============================] - 0s 5ms/step - loss: 1.0514 - accuracy: 0.4444\n",
      "Epoch 8/10\n",
      "5/5 [==============================] - 0s 5ms/step - loss: 0.9805 - accuracy: 0.4722\n",
      "Epoch 9/10\n",
      "5/5 [==============================] - 0s 5ms/step - loss: 0.9435 - accuracy: 0.5417\n",
      "Epoch 10/10\n",
      "5/5 [==============================] - 0s 5ms/step - loss: 1.0942 - accuracy: 0.4861\n"
     ]
    },
    {
     "data": {
      "text/plain": [
       "<keras.callbacks.History at 0x181b77050d0>"
      ]
     },
     "execution_count": 226,
     "metadata": {},
     "output_type": "execute_result"
    }
   ],
   "source": [
    "# Train the model with the reshaped input data\n",
    "custom_model.fit(X_train, y_train, epochs=10, batch_size=15)"
   ]
  },
  {
   "cell_type": "code",
   "execution_count": 227,
   "id": "7a959128-a5ad-44c9-a99d-7b2b96236245",
   "metadata": {},
   "outputs": [
    {
     "name": "stdout",
     "output_type": "stream",
     "text": [
      "1/1 [==============================] - 0s 159ms/step\n"
     ]
    }
   ],
   "source": [
    "# Make predictions on the testing set\n",
    "y_pred = custom_model.predict(X_test)\n",
    "\n",
    "# Convert one-hot encoded predictions to class labels (optional)\n",
    "y_pred_classes = np.argmax(y_pred, axis=1)"
   ]
  },
  {
   "cell_type": "code",
   "execution_count": 228,
   "id": "5d0f58c1-74c1-4fa1-8561-b20b5175a650",
   "metadata": {},
   "outputs": [
    {
     "name": "stdout",
     "output_type": "stream",
     "text": [
      "1/1 [==============================] - 0s 477ms/step - loss: 0.8508 - accuracy: 0.9444\n",
      "Test accuracy: 0.9444444179534912\n"
     ]
    }
   ],
   "source": [
    "# Evaluate the model\n",
    "test_loss, test_acc = custom_model.evaluate(X_test, y_test)\n",
    "print('Test accuracy:', test_acc)"
   ]
  },
  {
   "cell_type": "markdown",
   "id": "25ae7635-006c-48ae-8803-8c8652c8c4f1",
   "metadata": {},
   "source": [
    "Now we add early stopping method to our selected model\n"
   ]
  },
  {
   "cell_type": "code",
   "execution_count": 229,
   "id": "5eab41b4-f4c6-4d3e-9429-41717f6ffd68",
   "metadata": {},
   "outputs": [],
   "source": [
    "import pandas as pd\n",
    "import numpy as np\n",
    "from sklearn.model_selection import train_test_split\n",
    "from keras.models import Model\n",
    "from keras.layers import Dense, Input\n",
    "from keras.utils import to_categorical\n",
    "from sklearn.preprocessing import OneHotEncoder, LabelEncoder\n",
    "from keras.callbacks import EarlyStopping, ModelCheckpoint\n",
    "import matplotlib.pyplot as plt"
   ]
  },
  {
   "cell_type": "code",
   "execution_count": 230,
   "id": "b556e1f7-5898-4155-ae1a-057fa9c8ddbe",
   "metadata": {},
   "outputs": [],
   "source": [
    "# Load data from CSV file\n",
    "file_path = r'C:\\Users\\spthe\\OneDrive\\Desktop\\TreeDataSet.csv'  # The file path\n",
    "data = pd.read_csv(file_path)"
   ]
  },
  {
   "cell_type": "code",
   "execution_count": 231,
   "id": "39ab06cc-5f6d-46cb-bf2b-4d7d3674137e",
   "metadata": {},
   "outputs": [],
   "source": [
    "# Adjust column names\n",
    "data.columns = ['TreeSpecies', 'Ratio', 'Angle']"
   ]
  },
  {
   "cell_type": "code",
   "execution_count": 232,
   "id": "027d3a48-562d-4f05-958c-6015e041fb24",
   "metadata": {},
   "outputs": [
    {
     "name": "stdout",
     "output_type": "stream",
     "text": [
      "Data types in features (X):\n",
      "Ratio    float64\n",
      "Angle      int64\n",
      "dtype: object\n",
      "Data type in labels (y):\n",
      "object\n"
     ]
    }
   ],
   "source": [
    "# Check for data types in features and labels (for debugging)\n",
    "print(\"Data types in features (X):\")\n",
    "print(data[['Ratio', 'Angle']].dtypes)\n",
    "print(\"Data type in labels (y):\")\n",
    "print(data['TreeSpecies'].dtype)"
   ]
  },
  {
   "cell_type": "code",
   "execution_count": 233,
   "id": "6a8cf9b5-900c-432e-a118-0f17da10316e",
   "metadata": {},
   "outputs": [],
   "source": [
    "# Prepare features and labels\n",
    "X = data[['Ratio', 'Angle']].apply(pd.to_numeric, errors='coerce').values"
   ]
  },
  {
   "cell_type": "code",
   "execution_count": 234,
   "id": "190b3280-5856-46ee-b99d-7b05e4e0582b",
   "metadata": {},
   "outputs": [
    {
     "name": "stdout",
     "output_type": "stream",
     "text": [
      "Number of unique classes after label encoding: 3\n"
     ]
    }
   ],
   "source": [
    "label_encoder = LabelEncoder()\n",
    "y = label_encoder.fit_transform(data['TreeSpecies'].values)\n",
    "print(\"Number of unique classes after label encoding:\", len(label_encoder.classes_))"
   ]
  },
  {
   "cell_type": "code",
   "execution_count": 235,
   "id": "3010149a-f854-43ec-aa22-cdc2bd6ff168",
   "metadata": {},
   "outputs": [
    {
     "name": "stdout",
     "output_type": "stream",
     "text": [
      "Shape of encoded labels (y): (90, 3)\n"
     ]
    }
   ],
   "source": [
    "encoder = OneHotEncoder(sparse=False)\n",
    "y = encoder.fit_transform(y.reshape(-1, 1))\n",
    "print(\"Shape of encoded labels (y):\", y.shape)"
   ]
  },
  {
   "cell_type": "code",
   "execution_count": 236,
   "id": "80bfb2cb-d269-4d74-b857-b15d49d0f65a",
   "metadata": {},
   "outputs": [
    {
     "name": "stdout",
     "output_type": "stream",
     "text": [
      "Shape of training features (X_train): (72, 2)\n"
     ]
    }
   ],
   "source": [
    "X_train, X_test, y_train, y_test = train_test_split(X, y, test_size=0.2, random_state=3)\n",
    "print(\"Shape of training features (X_train):\", X_train.shape)"
   ]
  },
  {
   "cell_type": "code",
   "execution_count": 237,
   "id": "dd845e73-24d1-4130-abd6-66e04dfd0b89",
   "metadata": {},
   "outputs": [],
   "source": [
    "# Define the input layer with shape (2,)\n",
    "input_layer = Input(shape=(2,))\n",
    "hidden_layer1 = Dense(units=90, activation='relu')(input_layer)\n",
    "hidden_layer2 = Dense(units=30, activation='relu')(hidden_layer1)\n",
    "output_layer = Dense(units=3, activation='softmax')(hidden_layer2)"
   ]
  },
  {
   "cell_type": "code",
   "execution_count": 238,
   "id": "ab325ac5-6c7d-4b2b-8884-c3bded53fc5a",
   "metadata": {},
   "outputs": [],
   "source": [
    "# Define the model\n",
    "custom_model = Model(inputs=input_layer, outputs=output_layer)\n",
    "custom_model.compile(optimizer='rmsprop', loss='categorical_crossentropy', metrics=['accuracy'])"
   ]
  },
  {
   "cell_type": "code",
   "execution_count": 239,
   "id": "30f997d9-f934-4674-9107-d131348f1275",
   "metadata": {},
   "outputs": [],
   "source": [
    "# Define early stopping and model checkpoint callbacks\n",
    "early_stopping = EarlyStopping(monitor='val_loss', patience=3, verbose=1, restore_best_weights=True)\n",
    "model_checkpoint = ModelCheckpoint(filepath='best_model.h5', monitor='val_loss', save_best_only=True, verbose=1)"
   ]
  },
  {
   "cell_type": "code",
   "execution_count": 240,
   "id": "2c8dd790-31c3-495b-951c-1b0e7d58e392",
   "metadata": {},
   "outputs": [
    {
     "name": "stdout",
     "output_type": "stream",
     "text": [
      "Epoch 1/20\n",
      "1/4 [======>.......................] - ETA: 4s - loss: 13.1628 - accuracy: 0.3333\n",
      "Epoch 1: val_loss improved from inf to 3.65185, saving model to best_model.h5\n",
      "4/4 [==============================] - 2s 219ms/step - loss: 6.7108 - accuracy: 0.3860 - val_loss: 3.6519 - val_accuracy: 0.3333\n",
      "Epoch 2/20\n",
      "1/4 [======>.......................] - ETA: 0s - loss: 3.0655 - accuracy: 0.3333\n",
      "Epoch 2: val_loss improved from 3.65185 to 1.93400, saving model to best_model.h5\n",
      "4/4 [==============================] - 0s 52ms/step - loss: 1.7980 - accuracy: 0.4386 - val_loss: 1.9340 - val_accuracy: 0.2000\n",
      "Epoch 3/20\n",
      "1/4 [======>.......................] - ETA: 0s - loss: 1.6267 - accuracy: 0.3333\n",
      "Epoch 3: val_loss improved from 1.93400 to 0.98867, saving model to best_model.h5\n",
      "4/4 [==============================] - 0s 55ms/step - loss: 1.3815 - accuracy: 0.3684 - val_loss: 0.9887 - val_accuracy: 0.4667\n",
      "Epoch 4/20\n",
      "1/4 [======>.......................] - ETA: 0s - loss: 0.9529 - accuracy: 0.4667\n",
      "Epoch 4: val_loss improved from 0.98867 to 0.91914, saving model to best_model.h5\n",
      "4/4 [==============================] - 0s 47ms/step - loss: 0.9664 - accuracy: 0.4386 - val_loss: 0.9191 - val_accuracy: 0.8000\n",
      "Epoch 5/20\n",
      "1/4 [======>.......................] - ETA: 0s - loss: 0.9316 - accuracy: 0.6667\n",
      "Epoch 5: val_loss did not improve from 0.91914\n",
      "4/4 [==============================] - 0s 35ms/step - loss: 1.0982 - accuracy: 0.4561 - val_loss: 1.0961 - val_accuracy: 0.5333\n",
      "Epoch 6/20\n",
      "1/4 [======>.......................] - ETA: 0s - loss: 0.9639 - accuracy: 0.7333\n",
      "Epoch 6: val_loss did not improve from 0.91914\n",
      "4/4 [==============================] - 0s 33ms/step - loss: 1.2325 - accuracy: 0.5263 - val_loss: 1.4818 - val_accuracy: 0.2000\n",
      "Epoch 7/20\n",
      "1/4 [======>.......................] - ETA: 0s - loss: 1.5486 - accuracy: 0.2667Restoring model weights from the end of the best epoch: 4.\n",
      "\n",
      "Epoch 7: val_loss did not improve from 0.91914\n",
      "4/4 [==============================] - 0s 37ms/step - loss: 1.4709 - accuracy: 0.3860 - val_loss: 1.0557 - val_accuracy: 0.5333\n",
      "Epoch 7: early stopping\n"
     ]
    }
   ],
   "source": [
    "# Train the model with the callbacks\n",
    "history = custom_model.fit(X_train, y_train, epochs=20, batch_size=15, validation_split=0.2, callbacks=[early_stopping, model_checkpoint])"
   ]
  },
  {
   "cell_type": "code",
   "execution_count": 241,
   "id": "7efdfb64-fa19-462a-8d18-4508cd5c02d8",
   "metadata": {},
   "outputs": [
    {
     "name": "stdout",
     "output_type": "stream",
     "text": [
      "1/1 [==============================] - 1s 961ms/step - loss: 0.9239 - accuracy: 0.5556\n",
      "Test loss, Test accuracy: 0.9239245653152466 0.5555555820465088\n"
     ]
    }
   ],
   "source": [
    "# Evaluate the model on the test set\n",
    "test_loss, test_acc = custom_model.evaluate(X_test, y_test)\n",
    "print('Test loss, Test accuracy:', test_loss, test_acc)"
   ]
  },
  {
   "cell_type": "code",
   "execution_count": 242,
   "id": "29fb649c-5a18-4043-96f5-679be6dc6e0f",
   "metadata": {},
   "outputs": [
    {
     "name": "stdout",
     "output_type": "stream",
     "text": [
      "1/1 [==============================] - 0s 176ms/step\n",
      "Predictions shape: (18, 3)\n"
     ]
    }
   ],
   "source": [
    "# Make predictions on the testing set\n",
    "predictions = custom_model.predict(X_test)\n",
    "print('Predictions shape:', predictions.shape)"
   ]
  },
  {
   "cell_type": "code",
   "execution_count": 243,
   "id": "6e75d539-67a1-4448-a627-18174487903e",
   "metadata": {},
   "outputs": [
    {
     "name": "stdout",
     "output_type": "stream",
     "text": [
      "Sum of probabilities for the first prediction: 1.0\n"
     ]
    }
   ],
   "source": [
    "# Check the sum of probabilities for the first prediction\n",
    "print('Sum of probabilities for the first prediction:', np.sum(predictions[0]))"
   ]
  },
  {
   "cell_type": "code",
   "execution_count": 244,
   "id": "9bb6c360-c642-46fb-8813-8c52bffec481",
   "metadata": {},
   "outputs": [
    {
     "name": "stdout",
     "output_type": "stream",
     "text": [
      "Class with the highest probability for the first prediction: 0\n"
     ]
    }
   ],
   "source": [
    "# Get the class with the highest probability for the first prediction\n",
    "print('Class with the highest probability for the first prediction:', np.argmax(predictions[0]))"
   ]
  },
  {
   "cell_type": "code",
   "execution_count": 245,
   "id": "d68dbe98-1a27-49ce-bf3d-7aada3c1e181",
   "metadata": {},
   "outputs": [
    {
     "data": {
      "image/png": "[encoded data removed]",
      "text/plain": [
       "<Figure size 640x480 with 1 Axes>"
      ]
     },
     "metadata": {},
     "output_type": "display_data"
    }
   ],
   "source": [
    "# Plot training and validation loss\n",
    "loss = history.history['loss']\n",
    "val_loss = history.history['val_loss']\n",
    "epochs = range(1, len(loss) + 1)\n",
    "plt.plot(epochs, loss, 'r', label='Training loss')\n",
    "plt.plot(epochs, val_loss, 'b', label='Validation loss')\n",
    "plt.title('Training and validation loss')\n",
    "plt.xlabel('Epochs')\n",
    "plt.ylabel('Loss')\n",
    "plt.legend()\n",
    "plt.show()"
   ]
  },
  {
   "cell_type": "code",
   "execution_count": 246,
   "id": "4bce8db7-fbaa-4c4c-9d51-4e1fe10a7590",
   "metadata": {},
   "outputs": [
    {
     "data": {
      "image/png": "[encoded data removed]",
      "text/plain": [
       "<Figure size 640x480 with 1 Axes>"
      ]
     },
     "metadata": {},
     "output_type": "display_data"
    }
   ],
   "source": [
    "# Plot training and validation accuracy\n",
    "plt.clf()\n",
    "acc = history.history['accuracy']\n",
    "val_acc = history.history['val_accuracy']\n",
    "plt.plot(epochs, acc, 'r', label='Training accuracy')\n",
    "plt.plot(epochs, val_acc, 'b', label='Validation accuracy')\n",
    "plt.title('Training and validation accuracy')\n",
    "plt.xlabel('Epochs')\n",
    "plt.ylabel('Accuracy')\n",
    "plt.legend()\n",
    "plt.show()"
   ]
  },
  {
   "cell_type": "code",
   "execution_count": 247,
   "id": "1bbf661c-09c1-49a3-ab0f-57e2ea6140d7",
   "metadata": {},
   "outputs": [
    {
     "name": "stdout",
     "output_type": "stream",
     "text": [
      "1/1 [==============================] - 0s 79ms/step - loss: 0.9239 - accuracy: 0.5556\n"
     ]
    }
   ],
   "source": [
    "results = custom_model.evaluate(X_test, y_test)"
   ]
  },
  {
   "cell_type": "code",
   "execution_count": 248,
   "id": "011cf6ec-f04d-4743-b4f5-2096358454d5",
   "metadata": {},
   "outputs": [
    {
     "data": {
      "text/plain": [
       "[0.9239245653152466, 0.5555555820465088]"
      ]
     },
     "execution_count": 248,
     "metadata": {},
     "output_type": "execute_result"
    }
   ],
   "source": [
    "results"
   ]
  },
  {
   "cell_type": "code",
   "execution_count": 249,
   "id": "77d8ffcc-06af-474c-9060-5756e30e29d1",
   "metadata": {},
   "outputs": [
    {
     "name": "stdout",
     "output_type": "stream",
     "text": [
      "1/1 [==============================] - 0s 55ms/step\n"
     ]
    },
    {
     "data": {
      "text/plain": [
       "(18, 3)"
      ]
     },
     "execution_count": 249,
     "metadata": {},
     "output_type": "execute_result"
    }
   ],
   "source": [
    "predictions = custom_model.predict(X_test)\n",
    "predictions.shape"
   ]
  },
  {
   "cell_type": "code",
   "execution_count": 250,
   "id": "21c6d609-a05d-47cc-8a82-f1d707b14d45",
   "metadata": {},
   "outputs": [
    {
     "data": {
      "text/plain": [
       "1.0"
      ]
     },
     "execution_count": 250,
     "metadata": {},
     "output_type": "execute_result"
    }
   ],
   "source": [
    "np.sum(predictions[0])"
   ]
  },
  {
   "cell_type": "code",
   "execution_count": 251,
   "id": "6d2a679b-219b-47c1-8d14-28f9a181bbaa",
   "metadata": {},
   "outputs": [
    {
     "data": {
      "text/plain": [
       "0"
      ]
     },
     "execution_count": 251,
     "metadata": {},
     "output_type": "execute_result"
    }
   ],
   "source": [
    "np.argmax(predictions[0])"
   ]
  },
  {
   "cell_type": "code",
   "execution_count": null,
   "id": "5b07aa2d-775b-4e3b-a9ca-6fd544a0cdb3",
   "metadata": {},
   "outputs": [],
   "source": []
  }
 ],
 "metadata": {
  "kernelspec": {
   "display_name": "Python 3 (ipykernel)",
   "language": "python",
   "name": "python3"
  },
  "language_info": {
   "codemirror_mode": {
    "name": "ipython",
    "version": 3
   },
   "file_extension": ".py",
   "mimetype": "text/x-python",
   "name": "python",
   "nbconvert_exporter": "python",
   "pygments_lexer": "ipython3",
   "version": "3.9.18"
  }
 },
 "nbformat": 4,
 "nbformat_minor": 5
}
